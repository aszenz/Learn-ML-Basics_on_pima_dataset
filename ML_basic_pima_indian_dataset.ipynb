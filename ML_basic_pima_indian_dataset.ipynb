{
 "cells": [
  {
   "cell_type": "markdown",
   "metadata": {},
   "source": [
    "# Predicting Diabetes"
   ]
  },
  {
   "cell_type": "markdown",
   "metadata": {},
   "source": [
    "## Import Libraries"
   ]
  },
  {
   "cell_type": "code",
   "execution_count": 1,
   "metadata": {
    "collapsed": true
   },
   "outputs": [],
   "source": [
    "import pandas as pd # pandas is a dataframe library\n",
    "import matplotlib.pyplot as plt # plots data\n",
    "import numpy as np # provides n-dimensional object support\n",
    "\n",
    "# do plotting inline instead of in a seprate windows\n",
    "# jupyter window magic function\n",
    "%matplotlib inline "
   ]
  },
  {
   "cell_type": "markdown",
   "metadata": {},
   "source": [
    "## Load and review data"
   ]
  },
  {
   "cell_type": "code",
   "execution_count": 2,
   "metadata": {
    "collapsed": true
   },
   "outputs": [],
   "source": [
    "df = pd.read_csv('./data/pima-data.csv') # load pima data "
   ]
  },
  {
   "cell_type": "code",
   "execution_count": 3,
   "metadata": {},
   "outputs": [
    {
     "data": {
      "text/plain": [
       "(768, 10)"
      ]
     },
     "execution_count": 3,
     "metadata": {},
     "output_type": "execute_result"
    }
   ],
   "source": [
    "df.shape # gives the structure of the data: rows and cols"
   ]
  },
  {
   "cell_type": "code",
   "execution_count": 4,
   "metadata": {},
   "outputs": [
    {
     "data": {
      "text/html": [
       "<div>\n",
       "<style>\n",
       "    .dataframe thead tr:only-child th {\n",
       "        text-align: right;\n",
       "    }\n",
       "\n",
       "    .dataframe thead th {\n",
       "        text-align: left;\n",
       "    }\n",
       "\n",
       "    .dataframe tbody tr th {\n",
       "        vertical-align: top;\n",
       "    }\n",
       "</style>\n",
       "<table border=\"1\" class=\"dataframe\">\n",
       "  <thead>\n",
       "    <tr style=\"text-align: right;\">\n",
       "      <th></th>\n",
       "      <th>num_preg</th>\n",
       "      <th>glucose_conc</th>\n",
       "      <th>diastolic_bp</th>\n",
       "      <th>thickness</th>\n",
       "      <th>insulin</th>\n",
       "      <th>bmi</th>\n",
       "      <th>diab_pred</th>\n",
       "      <th>age</th>\n",
       "      <th>skin</th>\n",
       "      <th>diabetes</th>\n",
       "    </tr>\n",
       "  </thead>\n",
       "  <tbody>\n",
       "    <tr>\n",
       "      <th>0</th>\n",
       "      <td>6</td>\n",
       "      <td>148</td>\n",
       "      <td>72</td>\n",
       "      <td>35</td>\n",
       "      <td>0</td>\n",
       "      <td>33.6</td>\n",
       "      <td>0.627</td>\n",
       "      <td>50</td>\n",
       "      <td>1.3790</td>\n",
       "      <td>True</td>\n",
       "    </tr>\n",
       "    <tr>\n",
       "      <th>1</th>\n",
       "      <td>1</td>\n",
       "      <td>85</td>\n",
       "      <td>66</td>\n",
       "      <td>29</td>\n",
       "      <td>0</td>\n",
       "      <td>26.6</td>\n",
       "      <td>0.351</td>\n",
       "      <td>31</td>\n",
       "      <td>1.1426</td>\n",
       "      <td>False</td>\n",
       "    </tr>\n",
       "    <tr>\n",
       "      <th>2</th>\n",
       "      <td>8</td>\n",
       "      <td>183</td>\n",
       "      <td>64</td>\n",
       "      <td>0</td>\n",
       "      <td>0</td>\n",
       "      <td>23.3</td>\n",
       "      <td>0.672</td>\n",
       "      <td>32</td>\n",
       "      <td>0.0000</td>\n",
       "      <td>True</td>\n",
       "    </tr>\n",
       "    <tr>\n",
       "      <th>3</th>\n",
       "      <td>1</td>\n",
       "      <td>89</td>\n",
       "      <td>66</td>\n",
       "      <td>23</td>\n",
       "      <td>94</td>\n",
       "      <td>28.1</td>\n",
       "      <td>0.167</td>\n",
       "      <td>21</td>\n",
       "      <td>0.9062</td>\n",
       "      <td>False</td>\n",
       "    </tr>\n",
       "    <tr>\n",
       "      <th>4</th>\n",
       "      <td>0</td>\n",
       "      <td>137</td>\n",
       "      <td>40</td>\n",
       "      <td>35</td>\n",
       "      <td>168</td>\n",
       "      <td>43.1</td>\n",
       "      <td>2.288</td>\n",
       "      <td>33</td>\n",
       "      <td>1.3790</td>\n",
       "      <td>True</td>\n",
       "    </tr>\n",
       "  </tbody>\n",
       "</table>\n",
       "</div>"
      ],
      "text/plain": [
       "   num_preg  glucose_conc  diastolic_bp  thickness  insulin   bmi  diab_pred  \\\n",
       "0         6           148            72         35        0  33.6      0.627   \n",
       "1         1            85            66         29        0  26.6      0.351   \n",
       "2         8           183            64          0        0  23.3      0.672   \n",
       "3         1            89            66         23       94  28.1      0.167   \n",
       "4         0           137            40         35      168  43.1      2.288   \n",
       "\n",
       "   age    skin  diabetes  \n",
       "0   50  1.3790      True  \n",
       "1   31  1.1426     False  \n",
       "2   32  0.0000      True  \n",
       "3   21  0.9062     False  \n",
       "4   33  1.3790      True  "
      ]
     },
     "execution_count": 4,
     "metadata": {},
     "output_type": "execute_result"
    }
   ],
   "source": [
    "df.head() # returns by default the top 5 data rows of the data frame"
   ]
  },
  {
   "cell_type": "code",
   "execution_count": 5,
   "metadata": {},
   "outputs": [
    {
     "data": {
      "text/html": [
       "<div>\n",
       "<style>\n",
       "    .dataframe thead tr:only-child th {\n",
       "        text-align: right;\n",
       "    }\n",
       "\n",
       "    .dataframe thead th {\n",
       "        text-align: left;\n",
       "    }\n",
       "\n",
       "    .dataframe tbody tr th {\n",
       "        vertical-align: top;\n",
       "    }\n",
       "</style>\n",
       "<table border=\"1\" class=\"dataframe\">\n",
       "  <thead>\n",
       "    <tr style=\"text-align: right;\">\n",
       "      <th></th>\n",
       "      <th>num_preg</th>\n",
       "      <th>glucose_conc</th>\n",
       "      <th>diastolic_bp</th>\n",
       "      <th>thickness</th>\n",
       "      <th>insulin</th>\n",
       "      <th>bmi</th>\n",
       "      <th>diab_pred</th>\n",
       "      <th>age</th>\n",
       "      <th>skin</th>\n",
       "      <th>diabetes</th>\n",
       "    </tr>\n",
       "  </thead>\n",
       "  <tbody>\n",
       "    <tr>\n",
       "      <th>0</th>\n",
       "      <td>6</td>\n",
       "      <td>148</td>\n",
       "      <td>72</td>\n",
       "      <td>35</td>\n",
       "      <td>0</td>\n",
       "      <td>33.6</td>\n",
       "      <td>0.627</td>\n",
       "      <td>50</td>\n",
       "      <td>1.3790</td>\n",
       "      <td>True</td>\n",
       "    </tr>\n",
       "    <tr>\n",
       "      <th>1</th>\n",
       "      <td>1</td>\n",
       "      <td>85</td>\n",
       "      <td>66</td>\n",
       "      <td>29</td>\n",
       "      <td>0</td>\n",
       "      <td>26.6</td>\n",
       "      <td>0.351</td>\n",
       "      <td>31</td>\n",
       "      <td>1.1426</td>\n",
       "      <td>False</td>\n",
       "    </tr>\n",
       "    <tr>\n",
       "      <th>2</th>\n",
       "      <td>8</td>\n",
       "      <td>183</td>\n",
       "      <td>64</td>\n",
       "      <td>0</td>\n",
       "      <td>0</td>\n",
       "      <td>23.3</td>\n",
       "      <td>0.672</td>\n",
       "      <td>32</td>\n",
       "      <td>0.0000</td>\n",
       "      <td>True</td>\n",
       "    </tr>\n",
       "  </tbody>\n",
       "</table>\n",
       "</div>"
      ],
      "text/plain": [
       "   num_preg  glucose_conc  diastolic_bp  thickness  insulin   bmi  diab_pred  \\\n",
       "0         6           148            72         35        0  33.6      0.627   \n",
       "1         1            85            66         29        0  26.6      0.351   \n",
       "2         8           183            64          0        0  23.3      0.672   \n",
       "\n",
       "   age    skin  diabetes  \n",
       "0   50  1.3790      True  \n",
       "1   31  1.1426     False  \n",
       "2   32  0.0000      True  "
      ]
     },
     "execution_count": 5,
     "metadata": {},
     "output_type": "execute_result"
    }
   ],
   "source": [
    "df.head(3) # returns just 3 rows"
   ]
  },
  {
   "cell_type": "code",
   "execution_count": 6,
   "metadata": {},
   "outputs": [
    {
     "data": {
      "text/html": [
       "<div>\n",
       "<style>\n",
       "    .dataframe thead tr:only-child th {\n",
       "        text-align: right;\n",
       "    }\n",
       "\n",
       "    .dataframe thead th {\n",
       "        text-align: left;\n",
       "    }\n",
       "\n",
       "    .dataframe tbody tr th {\n",
       "        vertical-align: top;\n",
       "    }\n",
       "</style>\n",
       "<table border=\"1\" class=\"dataframe\">\n",
       "  <thead>\n",
       "    <tr style=\"text-align: right;\">\n",
       "      <th></th>\n",
       "      <th>num_preg</th>\n",
       "      <th>glucose_conc</th>\n",
       "      <th>diastolic_bp</th>\n",
       "      <th>thickness</th>\n",
       "      <th>insulin</th>\n",
       "      <th>bmi</th>\n",
       "      <th>diab_pred</th>\n",
       "      <th>age</th>\n",
       "      <th>skin</th>\n",
       "      <th>diabetes</th>\n",
       "    </tr>\n",
       "  </thead>\n",
       "  <tbody>\n",
       "    <tr>\n",
       "      <th>766</th>\n",
       "      <td>1</td>\n",
       "      <td>126</td>\n",
       "      <td>60</td>\n",
       "      <td>0</td>\n",
       "      <td>0</td>\n",
       "      <td>30.1</td>\n",
       "      <td>0.349</td>\n",
       "      <td>47</td>\n",
       "      <td>0.0000</td>\n",
       "      <td>True</td>\n",
       "    </tr>\n",
       "    <tr>\n",
       "      <th>767</th>\n",
       "      <td>1</td>\n",
       "      <td>93</td>\n",
       "      <td>70</td>\n",
       "      <td>31</td>\n",
       "      <td>0</td>\n",
       "      <td>30.4</td>\n",
       "      <td>0.315</td>\n",
       "      <td>23</td>\n",
       "      <td>1.2214</td>\n",
       "      <td>False</td>\n",
       "    </tr>\n",
       "  </tbody>\n",
       "</table>\n",
       "</div>"
      ],
      "text/plain": [
       "     num_preg  glucose_conc  diastolic_bp  thickness  insulin   bmi  \\\n",
       "766         1           126            60          0        0  30.1   \n",
       "767         1            93            70         31        0  30.4   \n",
       "\n",
       "     diab_pred  age    skin  diabetes  \n",
       "766      0.349   47  0.0000      True  \n",
       "767      0.315   23  1.2214     False  "
      ]
     },
     "execution_count": 6,
     "metadata": {},
     "output_type": "execute_result"
    }
   ],
   "source": [
    "df.tail(2) # returns the last two rows of the data frame "
   ]
  },
  {
   "cell_type": "markdown",
   "metadata": {},
   "source": [
    "### Definition of features in this data frame\n",
    "From the metadata on the data source we have the following definition of the features.\n",
    "\n",
    "| Feature       | Description                                    | Comments                    |\n",
    "|---------------|------------------------------------------------|-----------------------------|\n",
    "| num_preg      | number of pregnancies                          |                             |\n",
    "| glucose_conc  | Plasma glucose concentration a 2 hours in an oral glucose tolerance test |   |       \n",
    "| diastolic_bp  | Diastolic blood pressure (mm Hg)               |                             |\n",
    "| thickness     | Triceps skin fold thickness (mm)               |                             |\n",
    "| insulin       | 2-Hour serum insulin (mu U/ml)                 |                             |\n",
    "| bmi           | Body mass index (weight in kg/ (height in m)^2 |                             |\n",
    "| diab_pred     | Diabetes pedigree function                     |                             |\n",
    "| age           | Age in years                                   |                             |\n",
    "| skin          | ????                                           | What is this?               |\n",
    "| diabetes      | Class variable (1=True, 0=False)               | Why is our data in boolean? |"
   ]
  },
  {
   "cell_type": "markdown",
   "metadata": {},
   "source": [
    "### Columns to eliminate\n",
    "In general we want to eliminate any columns we don't need:\n",
    "* Columns with no values or are full of empty values\n",
    "* Columns that are duplicates\n",
    "* Columns that provide the same info in a different format (Correlated Columns)"
   ]
  },
  {
   "cell_type": "markdown",
   "metadata": {},
   "source": [
    "## Check for null values in the data frame"
   ]
  },
  {
   "cell_type": "code",
   "execution_count": 7,
   "metadata": {},
   "outputs": [
    {
     "data": {
      "text/plain": [
       "False"
      ]
     },
     "execution_count": 7,
     "metadata": {},
     "output_type": "execute_result"
    }
   ],
   "source": [
    "df.isnull().values.any() # if any nulls are found any() returns true"
   ]
  },
  {
   "cell_type": "markdown",
   "metadata": {},
   "source": [
    "## Check for correlated values"
   ]
  },
  {
   "cell_type": "code",
   "execution_count": 8,
   "metadata": {
    "collapsed": true
   },
   "outputs": [],
   "source": [
    "def plot_corr(df, size = 16):\n",
    "    \"\"\"\n",
    "    Function plots a graphical correlation matrix for each pair of columns in the database.\n",
    "        Input:\n",
    "           df: pandas dataframe to check\n",
    "           size: vertical and horizontal size of the plot\n",
    "        Displays:\n",
    "            matrix of correlation b/w cols.\n",
    "            Blue-Cyan-Yellow-Red-DarkRed => less to more correlated\n",
    "            Expect a darkred line running from top left to bottom right\n",
    "    \"\"\"\n",
    "    \n",
    "    corr = df.corr() # data frame correlation function.\n",
    "    fig, ax = plt.subplots(figsize = (size, size))\n",
    "    cax = ax.matshow(corr) # color code the rectange by correlation value\n",
    "    # pass the no of columns and their names for labeling x & y cells \n",
    "    plt.xticks(range(len(corr.columns)), corr.columns) # draw x tick marks\n",
    "    plt.yticks(range(len(corr.columns)), corr.columns) # draw y tick marks\n",
    "    plt.title('Diabetes feature correlation')"
   ]
  },
  {
   "cell_type": "code",
   "execution_count": 9,
   "metadata": {},
   "outputs": [
    {
     "data": {
      "image/png": "[encoded data removed]",
      "text/plain": [
       "<matplotlib.figure.Figure at 0x1ab54321550>"
      ]
     },
     "metadata": {},
     "output_type": "display_data"
    }
   ],
   "source": [
    "plot_corr(df)"
   ]
  },
  {
   "cell_type": "markdown",
   "metadata": {},
   "source": [
    "*The above graph shows a strong correlation b/w skin & thickness*"
   ]
  },
  {
   "cell_type": "markdown",
   "metadata": {},
   "source": [
    "**Lets see the correlation values**"
   ]
  },
  {
   "cell_type": "code",
   "execution_count": 10,
   "metadata": {},
   "outputs": [
    {
     "data": {
      "text/html": [
       "<div>\n",
       "<style>\n",
       "    .dataframe thead tr:only-child th {\n",
       "        text-align: right;\n",
       "    }\n",
       "\n",
       "    .dataframe thead th {\n",
       "        text-align: left;\n",
       "    }\n",
       "\n",
       "    .dataframe tbody tr th {\n",
       "        vertical-align: top;\n",
       "    }\n",
       "</style>\n",
       "<table border=\"1\" class=\"dataframe\">\n",
       "  <thead>\n",
       "    <tr style=\"text-align: right;\">\n",
       "      <th></th>\n",
       "      <th>num_preg</th>\n",
       "      <th>glucose_conc</th>\n",
       "      <th>diastolic_bp</th>\n",
       "      <th>thickness</th>\n",
       "      <th>insulin</th>\n",
       "      <th>bmi</th>\n",
       "      <th>diab_pred</th>\n",
       "      <th>age</th>\n",
       "      <th>skin</th>\n",
       "      <th>diabetes</th>\n",
       "    </tr>\n",
       "  </thead>\n",
       "  <tbody>\n",
       "    <tr>\n",
       "      <th>num_preg</th>\n",
       "      <td>1.000000</td>\n",
       "      <td>0.129459</td>\n",
       "      <td>0.141282</td>\n",
       "      <td>-0.081672</td>\n",
       "      <td>-0.073535</td>\n",
       "      <td>0.017683</td>\n",
       "      <td>-0.033523</td>\n",
       "      <td>0.544341</td>\n",
       "      <td>-0.081672</td>\n",
       "      <td>0.221898</td>\n",
       "    </tr>\n",
       "    <tr>\n",
       "      <th>glucose_conc</th>\n",
       "      <td>0.129459</td>\n",
       "      <td>1.000000</td>\n",
       "      <td>0.152590</td>\n",
       "      <td>0.057328</td>\n",
       "      <td>0.331357</td>\n",
       "      <td>0.221071</td>\n",
       "      <td>0.137337</td>\n",
       "      <td>0.263514</td>\n",
       "      <td>0.057328</td>\n",
       "      <td>0.466581</td>\n",
       "    </tr>\n",
       "    <tr>\n",
       "      <th>diastolic_bp</th>\n",
       "      <td>0.141282</td>\n",
       "      <td>0.152590</td>\n",
       "      <td>1.000000</td>\n",
       "      <td>0.207371</td>\n",
       "      <td>0.088933</td>\n",
       "      <td>0.281805</td>\n",
       "      <td>0.041265</td>\n",
       "      <td>0.239528</td>\n",
       "      <td>0.207371</td>\n",
       "      <td>0.065068</td>\n",
       "    </tr>\n",
       "    <tr>\n",
       "      <th>thickness</th>\n",
       "      <td>-0.081672</td>\n",
       "      <td>0.057328</td>\n",
       "      <td>0.207371</td>\n",
       "      <td>1.000000</td>\n",
       "      <td>0.436783</td>\n",
       "      <td>0.392573</td>\n",
       "      <td>0.183928</td>\n",
       "      <td>-0.113970</td>\n",
       "      <td>1.000000</td>\n",
       "      <td>0.074752</td>\n",
       "    </tr>\n",
       "    <tr>\n",
       "      <th>insulin</th>\n",
       "      <td>-0.073535</td>\n",
       "      <td>0.331357</td>\n",
       "      <td>0.088933</td>\n",
       "      <td>0.436783</td>\n",
       "      <td>1.000000</td>\n",
       "      <td>0.197859</td>\n",
       "      <td>0.185071</td>\n",
       "      <td>-0.042163</td>\n",
       "      <td>0.436783</td>\n",
       "      <td>0.130548</td>\n",
       "    </tr>\n",
       "    <tr>\n",
       "      <th>bmi</th>\n",
       "      <td>0.017683</td>\n",
       "      <td>0.221071</td>\n",
       "      <td>0.281805</td>\n",
       "      <td>0.392573</td>\n",
       "      <td>0.197859</td>\n",
       "      <td>1.000000</td>\n",
       "      <td>0.140647</td>\n",
       "      <td>0.036242</td>\n",
       "      <td>0.392573</td>\n",
       "      <td>0.292695</td>\n",
       "    </tr>\n",
       "    <tr>\n",
       "      <th>diab_pred</th>\n",
       "      <td>-0.033523</td>\n",
       "      <td>0.137337</td>\n",
       "      <td>0.041265</td>\n",
       "      <td>0.183928</td>\n",
       "      <td>0.185071</td>\n",
       "      <td>0.140647</td>\n",
       "      <td>1.000000</td>\n",
       "      <td>0.033561</td>\n",
       "      <td>0.183928</td>\n",
       "      <td>0.173844</td>\n",
       "    </tr>\n",
       "    <tr>\n",
       "      <th>age</th>\n",
       "      <td>0.544341</td>\n",
       "      <td>0.263514</td>\n",
       "      <td>0.239528</td>\n",
       "      <td>-0.113970</td>\n",
       "      <td>-0.042163</td>\n",
       "      <td>0.036242</td>\n",
       "      <td>0.033561</td>\n",
       "      <td>1.000000</td>\n",
       "      <td>-0.113970</td>\n",
       "      <td>0.238356</td>\n",
       "    </tr>\n",
       "    <tr>\n",
       "      <th>skin</th>\n",
       "      <td>-0.081672</td>\n",
       "      <td>0.057328</td>\n",
       "      <td>0.207371</td>\n",
       "      <td>1.000000</td>\n",
       "      <td>0.436783</td>\n",
       "      <td>0.392573</td>\n",
       "      <td>0.183928</td>\n",
       "      <td>-0.113970</td>\n",
       "      <td>1.000000</td>\n",
       "      <td>0.074752</td>\n",
       "    </tr>\n",
       "    <tr>\n",
       "      <th>diabetes</th>\n",
       "      <td>0.221898</td>\n",
       "      <td>0.466581</td>\n",
       "      <td>0.065068</td>\n",
       "      <td>0.074752</td>\n",
       "      <td>0.130548</td>\n",
       "      <td>0.292695</td>\n",
       "      <td>0.173844</td>\n",
       "      <td>0.238356</td>\n",
       "      <td>0.074752</td>\n",
       "      <td>1.000000</td>\n",
       "    </tr>\n",
       "  </tbody>\n",
       "</table>\n",
       "</div>"
      ],
      "text/plain": [
       "              num_preg  glucose_conc  diastolic_bp  thickness   insulin  \\\n",
       "num_preg      1.000000      0.129459      0.141282  -0.081672 -0.073535   \n",
       "glucose_conc  0.129459      1.000000      0.152590   0.057328  0.331357   \n",
       "diastolic_bp  0.141282      0.152590      1.000000   0.207371  0.088933   \n",
       "thickness    -0.081672      0.057328      0.207371   1.000000  0.436783   \n",
       "insulin      -0.073535      0.331357      0.088933   0.436783  1.000000   \n",
       "bmi           0.017683      0.221071      0.281805   0.392573  0.197859   \n",
       "diab_pred    -0.033523      0.137337      0.041265   0.183928  0.185071   \n",
       "age           0.544341      0.263514      0.239528  -0.113970 -0.042163   \n",
       "skin         -0.081672      0.057328      0.207371   1.000000  0.436783   \n",
       "diabetes      0.221898      0.466581      0.065068   0.074752  0.130548   \n",
       "\n",
       "                   bmi  diab_pred       age      skin  diabetes  \n",
       "num_preg      0.017683  -0.033523  0.544341 -0.081672  0.221898  \n",
       "glucose_conc  0.221071   0.137337  0.263514  0.057328  0.466581  \n",
       "diastolic_bp  0.281805   0.041265  0.239528  0.207371  0.065068  \n",
       "thickness     0.392573   0.183928 -0.113970  1.000000  0.074752  \n",
       "insulin       0.197859   0.185071 -0.042163  0.436783  0.130548  \n",
       "bmi           1.000000   0.140647  0.036242  0.392573  0.292695  \n",
       "diab_pred     0.140647   1.000000  0.033561  0.183928  0.173844  \n",
       "age           0.036242   0.033561  1.000000 -0.113970  0.238356  \n",
       "skin          0.392573   0.183928 -0.113970  1.000000  0.074752  \n",
       "diabetes      0.292695   0.173844  0.238356  0.074752  1.000000  "
      ]
     },
     "execution_count": 10,
     "metadata": {},
     "output_type": "execute_result"
    }
   ],
   "source": [
    "df.corr()"
   ]
  },
  {
   "cell_type": "markdown",
   "metadata": {},
   "source": [
    "*The correlation b/w each column with its self is 1 which is to be expected but notice the 1.0 correlation in the cells (skin row, thickness col) and (thickness row, skin col). This means that the values are changing in exact proportions to each other. Having two features that move together adds no additional info so we can drop one of these features*."
   ]
  },
  {
   "cell_type": "markdown",
   "metadata": {},
   "source": [
    "### Drop the skin col"
   ]
  },
  {
   "cell_type": "code",
   "execution_count": 11,
   "metadata": {
    "collapsed": true
   },
   "outputs": [],
   "source": [
    "del df['skin'] # removes the skin col from our data frame"
   ]
  },
  {
   "cell_type": "code",
   "execution_count": 12,
   "metadata": {},
   "outputs": [
    {
     "data": {
      "text/html": [
       "<div>\n",
       "<style>\n",
       "    .dataframe thead tr:only-child th {\n",
       "        text-align: right;\n",
       "    }\n",
       "\n",
       "    .dataframe thead th {\n",
       "        text-align: left;\n",
       "    }\n",
       "\n",
       "    .dataframe tbody tr th {\n",
       "        vertical-align: top;\n",
       "    }\n",
       "</style>\n",
       "<table border=\"1\" class=\"dataframe\">\n",
       "  <thead>\n",
       "    <tr style=\"text-align: right;\">\n",
       "      <th></th>\n",
       "      <th>num_preg</th>\n",
       "      <th>glucose_conc</th>\n",
       "      <th>diastolic_bp</th>\n",
       "      <th>thickness</th>\n",
       "      <th>insulin</th>\n",
       "      <th>bmi</th>\n",
       "      <th>diab_pred</th>\n",
       "      <th>age</th>\n",
       "      <th>diabetes</th>\n",
       "    </tr>\n",
       "  </thead>\n",
       "  <tbody>\n",
       "    <tr>\n",
       "      <th>0</th>\n",
       "      <td>6</td>\n",
       "      <td>148</td>\n",
       "      <td>72</td>\n",
       "      <td>35</td>\n",
       "      <td>0</td>\n",
       "      <td>33.6</td>\n",
       "      <td>0.627</td>\n",
       "      <td>50</td>\n",
       "      <td>True</td>\n",
       "    </tr>\n",
       "    <tr>\n",
       "      <th>1</th>\n",
       "      <td>1</td>\n",
       "      <td>85</td>\n",
       "      <td>66</td>\n",
       "      <td>29</td>\n",
       "      <td>0</td>\n",
       "      <td>26.6</td>\n",
       "      <td>0.351</td>\n",
       "      <td>31</td>\n",
       "      <td>False</td>\n",
       "    </tr>\n",
       "    <tr>\n",
       "      <th>2</th>\n",
       "      <td>8</td>\n",
       "      <td>183</td>\n",
       "      <td>64</td>\n",
       "      <td>0</td>\n",
       "      <td>0</td>\n",
       "      <td>23.3</td>\n",
       "      <td>0.672</td>\n",
       "      <td>32</td>\n",
       "      <td>True</td>\n",
       "    </tr>\n",
       "    <tr>\n",
       "      <th>3</th>\n",
       "      <td>1</td>\n",
       "      <td>89</td>\n",
       "      <td>66</td>\n",
       "      <td>23</td>\n",
       "      <td>94</td>\n",
       "      <td>28.1</td>\n",
       "      <td>0.167</td>\n",
       "      <td>21</td>\n",
       "      <td>False</td>\n",
       "    </tr>\n",
       "    <tr>\n",
       "      <th>4</th>\n",
       "      <td>0</td>\n",
       "      <td>137</td>\n",
       "      <td>40</td>\n",
       "      <td>35</td>\n",
       "      <td>168</td>\n",
       "      <td>43.1</td>\n",
       "      <td>2.288</td>\n",
       "      <td>33</td>\n",
       "      <td>True</td>\n",
       "    </tr>\n",
       "  </tbody>\n",
       "</table>\n",
       "</div>"
      ],
      "text/plain": [
       "   num_preg  glucose_conc  diastolic_bp  thickness  insulin   bmi  diab_pred  \\\n",
       "0         6           148            72         35        0  33.6      0.627   \n",
       "1         1            85            66         29        0  26.6      0.351   \n",
       "2         8           183            64          0        0  23.3      0.672   \n",
       "3         1            89            66         23       94  28.1      0.167   \n",
       "4         0           137            40         35      168  43.1      2.288   \n",
       "\n",
       "   age  diabetes  \n",
       "0   50      True  \n",
       "1   31     False  \n",
       "2   32      True  \n",
       "3   21     False  \n",
       "4   33      True  "
      ]
     },
     "execution_count": 12,
     "metadata": {},
     "output_type": "execute_result"
    }
   ],
   "source": [
    "# verify the col is dropped by checking the head again\n",
    "df.head()"
   ]
  },
  {
   "cell_type": "code",
   "execution_count": 13,
   "metadata": {},
   "outputs": [
    {
     "data": {
      "image/png": "[encoded data removed]",
      "text/plain": [
       "<matplotlib.figure.Figure at 0x1ab544a9fd0>"
      ]
     },
     "metadata": {},
     "output_type": "display_data"
    }
   ],
   "source": [
    "# lets now verify again that there are no correlated cols in the plot\n",
    "plot_corr(df)"
   ]
  },
  {
   "cell_type": "markdown",
   "metadata": {},
   "source": [
    "## Molding the data\n",
    "\n",
    "* Adjusting data types\n",
    "* Creating new cols, if required\n",
    "* Fit the data for training"
   ]
  },
  {
   "cell_type": "markdown",
   "metadata": {},
   "source": [
    "### Check data types\n"
   ]
  },
  {
   "cell_type": "code",
   "execution_count": 14,
   "metadata": {},
   "outputs": [
    {
     "data": {
      "text/html": [
       "<div>\n",
       "<style>\n",
       "    .dataframe thead tr:only-child th {\n",
       "        text-align: right;\n",
       "    }\n",
       "\n",
       "    .dataframe thead th {\n",
       "        text-align: left;\n",
       "    }\n",
       "\n",
       "    .dataframe tbody tr th {\n",
       "        vertical-align: top;\n",
       "    }\n",
       "</style>\n",
       "<table border=\"1\" class=\"dataframe\">\n",
       "  <thead>\n",
       "    <tr style=\"text-align: right;\">\n",
       "      <th></th>\n",
       "      <th>num_preg</th>\n",
       "      <th>glucose_conc</th>\n",
       "      <th>diastolic_bp</th>\n",
       "      <th>thickness</th>\n",
       "      <th>insulin</th>\n",
       "      <th>bmi</th>\n",
       "      <th>diab_pred</th>\n",
       "      <th>age</th>\n",
       "      <th>diabetes</th>\n",
       "    </tr>\n",
       "  </thead>\n",
       "  <tbody>\n",
       "    <tr>\n",
       "      <th>0</th>\n",
       "      <td>6</td>\n",
       "      <td>148</td>\n",
       "      <td>72</td>\n",
       "      <td>35</td>\n",
       "      <td>0</td>\n",
       "      <td>33.6</td>\n",
       "      <td>0.627</td>\n",
       "      <td>50</td>\n",
       "      <td>True</td>\n",
       "    </tr>\n",
       "    <tr>\n",
       "      <th>1</th>\n",
       "      <td>1</td>\n",
       "      <td>85</td>\n",
       "      <td>66</td>\n",
       "      <td>29</td>\n",
       "      <td>0</td>\n",
       "      <td>26.6</td>\n",
       "      <td>0.351</td>\n",
       "      <td>31</td>\n",
       "      <td>False</td>\n",
       "    </tr>\n",
       "    <tr>\n",
       "      <th>2</th>\n",
       "      <td>8</td>\n",
       "      <td>183</td>\n",
       "      <td>64</td>\n",
       "      <td>0</td>\n",
       "      <td>0</td>\n",
       "      <td>23.3</td>\n",
       "      <td>0.672</td>\n",
       "      <td>32</td>\n",
       "      <td>True</td>\n",
       "    </tr>\n",
       "    <tr>\n",
       "      <th>3</th>\n",
       "      <td>1</td>\n",
       "      <td>89</td>\n",
       "      <td>66</td>\n",
       "      <td>23</td>\n",
       "      <td>94</td>\n",
       "      <td>28.1</td>\n",
       "      <td>0.167</td>\n",
       "      <td>21</td>\n",
       "      <td>False</td>\n",
       "    </tr>\n",
       "    <tr>\n",
       "      <th>4</th>\n",
       "      <td>0</td>\n",
       "      <td>137</td>\n",
       "      <td>40</td>\n",
       "      <td>35</td>\n",
       "      <td>168</td>\n",
       "      <td>43.1</td>\n",
       "      <td>2.288</td>\n",
       "      <td>33</td>\n",
       "      <td>True</td>\n",
       "    </tr>\n",
       "  </tbody>\n",
       "</table>\n",
       "</div>"
      ],
      "text/plain": [
       "   num_preg  glucose_conc  diastolic_bp  thickness  insulin   bmi  diab_pred  \\\n",
       "0         6           148            72         35        0  33.6      0.627   \n",
       "1         1            85            66         29        0  26.6      0.351   \n",
       "2         8           183            64          0        0  23.3      0.672   \n",
       "3         1            89            66         23       94  28.1      0.167   \n",
       "4         0           137            40         35      168  43.1      2.288   \n",
       "\n",
       "   age  diabetes  \n",
       "0   50      True  \n",
       "1   31     False  \n",
       "2   32      True  \n",
       "3   21     False  \n",
       "4   33      True  "
      ]
     },
     "execution_count": 14,
     "metadata": {},
     "output_type": "execute_result"
    }
   ],
   "source": [
    "df.head()"
   ]
  },
  {
   "cell_type": "markdown",
   "metadata": {},
   "source": [
    "As we can see the diabetes feature is in boolean we need to change this to a numeric type to ensure\n",
    "they work with all algorithms.\n",
    "\n",
    "**Change True to 1, False to 0**\n"
   ]
  },
  {
   "cell_type": "code",
   "execution_count": 15,
   "metadata": {},
   "outputs": [
    {
     "data": {
      "text/html": [
       "<div>\n",
       "<style>\n",
       "    .dataframe thead tr:only-child th {\n",
       "        text-align: right;\n",
       "    }\n",
       "\n",
       "    .dataframe thead th {\n",
       "        text-align: left;\n",
       "    }\n",
       "\n",
       "    .dataframe tbody tr th {\n",
       "        vertical-align: top;\n",
       "    }\n",
       "</style>\n",
       "<table border=\"1\" class=\"dataframe\">\n",
       "  <thead>\n",
       "    <tr style=\"text-align: right;\">\n",
       "      <th></th>\n",
       "      <th>num_preg</th>\n",
       "      <th>glucose_conc</th>\n",
       "      <th>diastolic_bp</th>\n",
       "      <th>thickness</th>\n",
       "      <th>insulin</th>\n",
       "      <th>bmi</th>\n",
       "      <th>diab_pred</th>\n",
       "      <th>age</th>\n",
       "      <th>diabetes</th>\n",
       "    </tr>\n",
       "  </thead>\n",
       "  <tbody>\n",
       "    <tr>\n",
       "      <th>0</th>\n",
       "      <td>6</td>\n",
       "      <td>148</td>\n",
       "      <td>72</td>\n",
       "      <td>35</td>\n",
       "      <td>0</td>\n",
       "      <td>33.6</td>\n",
       "      <td>0.627</td>\n",
       "      <td>50</td>\n",
       "      <td>1</td>\n",
       "    </tr>\n",
       "    <tr>\n",
       "      <th>1</th>\n",
       "      <td>1</td>\n",
       "      <td>85</td>\n",
       "      <td>66</td>\n",
       "      <td>29</td>\n",
       "      <td>0</td>\n",
       "      <td>26.6</td>\n",
       "      <td>0.351</td>\n",
       "      <td>31</td>\n",
       "      <td>0</td>\n",
       "    </tr>\n",
       "    <tr>\n",
       "      <th>2</th>\n",
       "      <td>8</td>\n",
       "      <td>183</td>\n",
       "      <td>64</td>\n",
       "      <td>0</td>\n",
       "      <td>0</td>\n",
       "      <td>23.3</td>\n",
       "      <td>0.672</td>\n",
       "      <td>32</td>\n",
       "      <td>1</td>\n",
       "    </tr>\n",
       "    <tr>\n",
       "      <th>3</th>\n",
       "      <td>1</td>\n",
       "      <td>89</td>\n",
       "      <td>66</td>\n",
       "      <td>23</td>\n",
       "      <td>94</td>\n",
       "      <td>28.1</td>\n",
       "      <td>0.167</td>\n",
       "      <td>21</td>\n",
       "      <td>0</td>\n",
       "    </tr>\n",
       "    <tr>\n",
       "      <th>4</th>\n",
       "      <td>0</td>\n",
       "      <td>137</td>\n",
       "      <td>40</td>\n",
       "      <td>35</td>\n",
       "      <td>168</td>\n",
       "      <td>43.1</td>\n",
       "      <td>2.288</td>\n",
       "      <td>33</td>\n",
       "      <td>1</td>\n",
       "    </tr>\n",
       "  </tbody>\n",
       "</table>\n",
       "</div>"
      ],
      "text/plain": [
       "   num_preg  glucose_conc  diastolic_bp  thickness  insulin   bmi  diab_pred  \\\n",
       "0         6           148            72         35        0  33.6      0.627   \n",
       "1         1            85            66         29        0  26.6      0.351   \n",
       "2         8           183            64          0        0  23.3      0.672   \n",
       "3         1            89            66         23       94  28.1      0.167   \n",
       "4         0           137            40         35      168  43.1      2.288   \n",
       "\n",
       "   age  diabetes  \n",
       "0   50         1  \n",
       "1   31         0  \n",
       "2   32         1  \n",
       "3   21         0  \n",
       "4   33         1  "
      ]
     },
     "execution_count": 15,
     "metadata": {},
     "output_type": "execute_result"
    }
   ],
   "source": [
    "# define a mapping dictionary\n",
    "diabetes_map = {True: 1, False: 0}\n",
    "# Then we use the map method to change the values from True to 1 and False to 0.\n",
    "df['diabetes'] = df['diabetes'].map(diabetes_map)\n",
    "# lets check to see the results now\n",
    "df.head()"
   ]
  },
  {
   "cell_type": "markdown",
   "metadata": {},
   "source": [
    "### Lets see the distribution of the data now"
   ]
  },
  {
   "cell_type": "markdown",
   "metadata": {},
   "source": [
    "**Check True/False ratio in the data frame**"
   ]
  },
  {
   "cell_type": "code",
   "execution_count": 16,
   "metadata": {},
   "outputs": [
    {
     "name": "stdout",
     "output_type": "stream",
     "text": [
      "Number of true cases: 268 (34.90%)\n",
      "Number of false cases: 500 (65.10%)\n"
     ]
    }
   ],
   "source": [
    "num_true = len(df.loc[df['diabetes'] == 1])\n",
    "num_false = len(df.loc[df['diabetes'] == 0])\n",
    "percentage_true = (num_true / (num_true + num_false)) * 100\n",
    "percentage_false = (num_false / (num_true + num_false)) * 100\n",
    "print('Number of true cases: {0} ({1:2.2f}%)'.format(num_true, percentage_true))\n",
    "print('Number of false cases: {0} ({1:2.2f}%)'.format(num_false, percentage_false))"
   ]
  },
  {
   "cell_type": "markdown",
   "metadata": {},
   "source": [
    "*Since the ratios come out to be reasonable  we can train our prediction model using this data.\n",
    "If the vast majority of the data was either True/False the standard learning algorithms might not apply*  "
   ]
  },
  {
   "cell_type": "markdown",
   "metadata": {},
   "source": [
    "## Algorithm Selection for training "
   ]
  },
  {
   "cell_type": "markdown",
   "metadata": {},
   "source": [
    "There are over 50 algorithms available for training the data. We decide on the algorithm based on some factors"
   ]
  },
  {
   "cell_type": "markdown",
   "metadata": {},
   "source": [
    "### Alogrithm Decision Factors"
   ]
  },
  {
   "cell_type": "markdown",
   "metadata": {},
   "source": [
    "* Learning Type algorithm supports\n",
    "* Result of the algorithm\n",
    "* Complexity of the algorithm\n",
    "* Basic or Enhanced"
   ]
  },
  {
   "cell_type": "markdown",
   "metadata": {},
   "source": [
    "### Analyzing the problem and solution statements for deciding the choice of training algorithm. "
   ]
  },
  {
   "cell_type": "markdown",
   "metadata": {},
   "source": [
    "**We will use solution statement and knowledge of the machine learning workflow to guide in the evaluation of these factors.**"
   ]
  },
  {
   "cell_type": "markdown",
   "metadata": {},
   "source": [
    "Lets look at the solution statement first\n",
    "\n",
    "*\"Use the machine learning workflow to process and transform the Pima Indian data to create a prediction model. This model must predict which people are likely to develop diabetes with 70% or greater accuracy.\"*"
   ]
  },
  {
   "cell_type": "markdown",
   "metadata": {},
   "source": [
    "From this we infer that the solution is about prediction which means *supervised machine learning*.\n",
    "\n",
    "Therefore our alogrithm must support **supervised learning type**."
   ]
  },
  {
   "cell_type": "markdown",
   "metadata": {},
   "source": [
    "Prediction results can be divided into two categories:\n",
    "   * Regression - continous set of values \n",
    "   * Classification - discrete set of values which are small, medium or large.\n",
    "   \n",
    "Since we must predict diabetes which is only True/False hence **Diabetes is a discrete binary outcome**.\n",
    "\n",
    "Thus our algorithm must support **classifcation** in general and **binary classification** in particular.\n",
    "\n",
    "Many algorithms support both regression and classification so to further narrow down the choices choose **simple and basic**.\n",
    "\n",
    "Thus the **complexity** for the algorithm must be be **less** and it should be **basic**.\n",
    "    "
   ]
  },
  {
   "cell_type": "markdown",
   "metadata": {},
   "source": [
    "### Candidate Algorithms\n",
    "\n",
    "Now we will analyze three basic classification algorithms as possibilites for use in our initial training and evaluation.\n",
    "\n",
    "The algorithms are:\n",
    "* Naive Bayes\n",
    "* Logistic Regression\n",
    "* Decision Tree\n",
    "\n",
    "**Naive Bayes**\n",
    "* Based on Bayes theorem.\n",
    "* Simple - easy to understand.\n",
    "* Fast - upto 100x faster training time.\n",
    "* Stable to data changes. \n",
    "* Based on likelihood and probability.\n",
    "* Makes some naive assumptions about the data:\n",
    "    * All features have the same weight.\n",
    "    * All features are independent of each other.\n",
    "    * All features equally impact the result.\n",
    "* Requires small amount of data to train.\n",
    "\n",
    "**Logistic Regression**\n",
    "* Returns a binary value despite the regression name.\n",
    "* Measures relationship of each feature. \n",
    "* Relationship between features are weighted based on their impact on training results.\n",
    "* The resultant value is mapped against a curve with two values 1 & 0.\n",
    "\n",
    "**Decision Tree**\n",
    "* Uses a binary tree structure.\n",
    "* Each node makes a decision based upon the values of a feature.\n",
    "* At each node the feature value causes us to go down one path or another.\n",
    "* Requires enough data to determine nodes and splits.\n",
    "* Easy to understand and visualize. \n"
   ]
  },
  {
   "cell_type": "markdown",
   "metadata": {},
   "source": [
    "## Initial Training of the Model\n",
    " \n",
    "**Machine Learning Training**\n",
    "\n",
    "Letting specific data teach a Machine Learning algorithm to create a specific prediction model.\n",
    "\n",
    "* If data changes or new data becomes available we need to retrain the model.\n",
    "* Retraining ensures the model can make use of the new data to make better predictions.\n",
    "* We can also verify the training performance with the new data.\n",
    "\n",
    "**Training Overview**\n",
    "* *Split data* - The prepared data is split into two data sets:\n",
    "    * Training (70% data) - One for training the model\n",
    "    * Testing (30% data) - Other for testing the model's accuracy.\n",
    "* *Train model* - Train the algorithm with the training data.\n",
    "    * The training process produces the trained model\n",
    "    * It is based on the logic of the alogrithm and the values of the features in the training data.\n",
    "    * The training exposes the code in the algorithm to data with which it interacts.\n",
    "    * The model creates a decision boundary for classification. \n",
    "    * The structure of this boundary is defined by combination of algorithm and training data.\n",
    "    * Perfect accuracy against the training data is not the goal.\n",
    "    * The goal is accuracy against real world data.\n",
    "* *Evaluate model* - Use previously unseen test data for evaluation\n",
    "    * The test data acts as real world training data.\n",
    "    * This gives us the perforance expected of the model with real world data.\n",
    "\n",
    "**Selecting Training features**\n",
    "* We want to train with minimum features(columns) to make the training faster and accurate.\n",
    "* To select relevant features we reason about the context of the problem.\n",
    "* After selection we use the rest of the features for training."
   ]
  },
  {
   "cell_type": "markdown",
   "metadata": {},
   "source": [
    "## Use of scikit-learn library\n",
    "\n",
    "scikit-learn is a popular library for handling machine learing training and evaluation tasks. \n",
    "\n",
    "Designed to work with NumPy, SciPy, matplotlib and Pandas libraries to make it easy to perform training and evaluation tasks\n",
    "\n",
    "The tools provided by the library are:\n",
    "* Data splitting\n",
    "* Pre-processing\n",
    "* Feature selection\n",
    "* Model training\n",
    "* Model tuning\n",
    "* Common interface for accessing ML algorithms"
   ]
  },
  {
   "cell_type": "markdown",
   "metadata": {},
   "source": [
    "## Splitting the data\n",
    "\n",
    "70% for training, 30% for testing "
   ]
  },
  {
   "cell_type": "code",
   "execution_count": 17,
   "metadata": {
    "collapsed": true
   },
   "outputs": [],
   "source": [
    "# scikit-learn contains train_test_split method which makes it easy to split the data \n",
    "\n",
    "\n",
    "from sklearn.model_selection import train_test_split # import training test split method from sklearn\n",
    "\n",
    "# next we define the feature cols and predicted col\n",
    "feature_col_names = ['num_preg', 'glucose_conc', 'diastolic_bp', 'thickness', 'insulin', 'bmi', 'diab_pred', 'age']\n",
    "predicted_class_names = ['diabetes']\n",
    "\n",
    "# split our data into two data frames one containing the features cols and other with the diabetes result\n",
    "X = df[feature_col_names].values # predictor feature cols (8)\n",
    "Y = df[predicted_class_names].values # predicated class (1=True, 0=False) col (1)\n",
    "\n",
    "split_test_size = 0.30 # define the train_test split ratio 30%\n",
    "\n",
    "# These data frames and the split size are passed to the function which then return four numpy arrays of data\n",
    "# the arrays contain the values of test and training feature cols and the test and train diabetes results\n",
    "# Since the splitting process must be random we pass the random_state any value\n",
    "# random_state sets the seed for the random no generator used as part of the splitting process\n",
    "# setting the seed to a constant ensures that if the function is run again the split will be identical\n",
    "X_train, X_test, Y_train, Y_test = train_test_split(X, Y, test_size = split_test_size, random_state = 42)"
   ]
  },
  {
   "cell_type": "markdown",
   "metadata": {},
   "source": [
    "We check to ensure we have the desired 70% train and 30% test split of the data"
   ]
  },
  {
   "cell_type": "code",
   "execution_count": 18,
   "metadata": {},
   "outputs": [
    {
     "name": "stdout",
     "output_type": "stream",
     "text": [
      "69.92% in training set\n",
      "30.08% in test set\n"
     ]
    }
   ],
   "source": [
    "#  here df.index is the whole data frame\n",
    "print('{0:0.2f}% in training set'.format((len(X_train) / len(df.index)) * 100))\n",
    "print('{0:0.2f}% in test set'.format((len(X_test) / len(df.index)) * 100))"
   ]
  },
  {
   "cell_type": "markdown",
   "metadata": {},
   "source": [
    "We also verify the predicted value (True/False) was split the same b/w the train & test data sets"
   ]
  },
  {
   "cell_type": "code",
   "execution_count": 19,
   "metadata": {},
   "outputs": [
    {
     "name": "stdout",
     "output_type": "stream",
     "text": [
      "Original set True : 268 ( 34.90%)\n",
      "Original set False : 500 ( 65.10%)\n",
      "Train set True : 188 ( 35.01%)\n",
      "Train set False : 349 ( 64.99%)\n",
      "Test set True : 80 ( 34.63%)\n",
      "Test set False : 151 ( 65.37%)\n"
     ]
    }
   ],
   "source": [
    "total_length = len(df.index) # no of observarions (rows) in the whole data frame\n",
    "original_true = len(df.loc[df['diabetes'] == 1]) # no of observations with diabetes \n",
    "original_true_perct = (original_true / total_length) * 100 # ratio of true to whole in the full set\n",
    "original_false = len(df.loc[df['diabetes'] == 0]) # no of observations without diabetes \n",
    "original_false_perct = (original_false / total_length) * 100 # ratio of false to whole in the full set\n",
    "# printing the result\n",
    "print('Original set True : {0} ({1: 0.2f}%)'.format(original_true, original_true_perct)) \n",
    "print('Original set False : {0} ({1: 0.2f}%)'.format(original_false, original_false_perct))\n",
    "\n",
    "training_true = len(Y_train[Y_train[:] == 1]) # no of observations with diabetes in the train set\n",
    "training_true_perct = (training_true / len(Y_train)) * 100 # ratio of true to whole in train set\n",
    "training_false = len(Y_train[Y_train[:] == 0]) # no of observations without diabetes in the train set\n",
    "training_false_perct = (training_false / len(Y_train)) * 100 # ratio of false to whole in train set\n",
    "# printing the result\n",
    "print('Train set True : {0} ({1: 0.2f}%)'.format(training_true, training_true_perct))\n",
    "print('Train set False : {0} ({1: 0.2f}%)'.format(training_false, training_false_perct))\n",
    "\n",
    "testing_true = len(Y_test[Y_test[:] == 1]) # no of observations with diabetes in the test set\n",
    "testing_true_perct = (testing_true / len(Y_test)) * 100 # ratio of true to whole in test set\n",
    "testing_false = len(Y_test[Y_test[:] == 0]) # no of observations without diabetes in the test set\n",
    "testing_false_perct = (testing_false / len(Y_test)) * 100 # ratio of false to whole in test set\n",
    "# printing the result\n",
    "print('Test set True : {0} ({1: 0.2f}%)'.format(testing_true, testing_true_perct))\n",
    "print('Test set False : {0} ({1: 0.2f}%)'.format(testing_false, testing_false_perct))\n"
   ]
  },
  {
   "cell_type": "markdown",
   "metadata": {},
   "source": [
    "Since the percentages were preserved while splitting the data therefor we can move forward with these sets."
   ]
  },
  {
   "cell_type": "markdown",
   "metadata": {},
   "source": [
    "### Post-split Data Preparation"
   ]
  },
  {
   "cell_type": "markdown",
   "metadata": {},
   "source": [
    "#### Hidden Missing Values"
   ]
  },
  {
   "cell_type": "code",
   "execution_count": 20,
   "metadata": {},
   "outputs": [
    {
     "data": {
      "text/html": [
       "<div>\n",
       "<style>\n",
       "    .dataframe thead tr:only-child th {\n",
       "        text-align: right;\n",
       "    }\n",
       "\n",
       "    .dataframe thead th {\n",
       "        text-align: left;\n",
       "    }\n",
       "\n",
       "    .dataframe tbody tr th {\n",
       "        vertical-align: top;\n",
       "    }\n",
       "</style>\n",
       "<table border=\"1\" class=\"dataframe\">\n",
       "  <thead>\n",
       "    <tr style=\"text-align: right;\">\n",
       "      <th></th>\n",
       "      <th>num_preg</th>\n",
       "      <th>glucose_conc</th>\n",
       "      <th>diastolic_bp</th>\n",
       "      <th>thickness</th>\n",
       "      <th>insulin</th>\n",
       "      <th>bmi</th>\n",
       "      <th>diab_pred</th>\n",
       "      <th>age</th>\n",
       "      <th>diabetes</th>\n",
       "    </tr>\n",
       "  </thead>\n",
       "  <tbody>\n",
       "    <tr>\n",
       "      <th>0</th>\n",
       "      <td>6</td>\n",
       "      <td>148</td>\n",
       "      <td>72</td>\n",
       "      <td>35</td>\n",
       "      <td>0</td>\n",
       "      <td>33.6</td>\n",
       "      <td>0.627</td>\n",
       "      <td>50</td>\n",
       "      <td>1</td>\n",
       "    </tr>\n",
       "    <tr>\n",
       "      <th>1</th>\n",
       "      <td>1</td>\n",
       "      <td>85</td>\n",
       "      <td>66</td>\n",
       "      <td>29</td>\n",
       "      <td>0</td>\n",
       "      <td>26.6</td>\n",
       "      <td>0.351</td>\n",
       "      <td>31</td>\n",
       "      <td>0</td>\n",
       "    </tr>\n",
       "    <tr>\n",
       "      <th>2</th>\n",
       "      <td>8</td>\n",
       "      <td>183</td>\n",
       "      <td>64</td>\n",
       "      <td>0</td>\n",
       "      <td>0</td>\n",
       "      <td>23.3</td>\n",
       "      <td>0.672</td>\n",
       "      <td>32</td>\n",
       "      <td>1</td>\n",
       "    </tr>\n",
       "    <tr>\n",
       "      <th>3</th>\n",
       "      <td>1</td>\n",
       "      <td>89</td>\n",
       "      <td>66</td>\n",
       "      <td>23</td>\n",
       "      <td>94</td>\n",
       "      <td>28.1</td>\n",
       "      <td>0.167</td>\n",
       "      <td>21</td>\n",
       "      <td>0</td>\n",
       "    </tr>\n",
       "    <tr>\n",
       "      <th>4</th>\n",
       "      <td>0</td>\n",
       "      <td>137</td>\n",
       "      <td>40</td>\n",
       "      <td>35</td>\n",
       "      <td>168</td>\n",
       "      <td>43.1</td>\n",
       "      <td>2.288</td>\n",
       "      <td>33</td>\n",
       "      <td>1</td>\n",
       "    </tr>\n",
       "  </tbody>\n",
       "</table>\n",
       "</div>"
      ],
      "text/plain": [
       "   num_preg  glucose_conc  diastolic_bp  thickness  insulin   bmi  diab_pred  \\\n",
       "0         6           148            72         35        0  33.6      0.627   \n",
       "1         1            85            66         29        0  26.6      0.351   \n",
       "2         8           183            64          0        0  23.3      0.672   \n",
       "3         1            89            66         23       94  28.1      0.167   \n",
       "4         0           137            40         35      168  43.1      2.288   \n",
       "\n",
       "   age  diabetes  \n",
       "0   50         1  \n",
       "1   31         0  \n",
       "2   32         1  \n",
       "3   21         0  \n",
       "4   33         1  "
      ]
     },
     "execution_count": 20,
     "metadata": {},
     "output_type": "execute_result"
    }
   ],
   "source": [
    "# Sometimes null values can be hiding in plain sight.\n",
    "df.head()"
   ]
  },
  {
   "cell_type": "markdown",
   "metadata": {},
   "source": [
    "*Notice the thickness in the index 2 row*\n",
    "\n",
    "Having a physical thickness is not possible and hence this is a hidden missing value.\n",
    "\n",
    "How many other rows have unexpected 0 values??\n",
    "\n",
    "Are zeros values valid for such features??\n",
    "\n",
    "Lets find out\n"
   ]
  },
  {
   "cell_type": "code",
   "execution_count": 21,
   "metadata": {},
   "outputs": [
    {
     "name": "stdout",
     "output_type": "stream",
     "text": [
      "rows in dataframe: 768\n",
      "rows missing glucose_conc: 5\n",
      "rows missing diastolic_bp: 35\n",
      "rows missing thickness: 227\n",
      "rows missing insulin: 374\n",
      "rows missing bmi: 11\n",
      "rows missing diab_pred: 0\n",
      "rows missing age: 0\n"
     ]
    }
   ],
   "source": [
    "def printZeroValues(df):\n",
    "    print('rows in dataframe: {}'.format(len(df)))\n",
    "    print('rows missing glucose_conc: {}'.format(len(df.loc[df['glucose_conc'] == 0])))\n",
    "    print('rows missing diastolic_bp: {}'.format(len(df.loc[df['diastolic_bp'] == 0])))\n",
    "    print('rows missing thickness: {}'.format(len(df.loc[df['thickness'] == 0])))\n",
    "    print('rows missing insulin: {}'.format(len(df.loc[df['insulin'] == 0])))\n",
    "    print('rows missing bmi: {}'.format(len(df.loc[df['bmi'] == 0])))\n",
    "    print('rows missing diab_pred: {}'.format(len(df.loc[df['diab_pred'] == 0])))\n",
    "    print('rows missing age: {}'.format(len(df.loc[df['age'] == 0])))\n",
    "\n",
    "printZeroValues(df)\n"
   ]
  },
  {
   "cell_type": "markdown",
   "metadata": {},
   "source": [
    "*As we can see there are lot of rows with 0 values for some features which may indicate missing data*\n",
    "\n",
    "**Which rows are really an issue and which rows could validly have zeros for their features??**\n",
    "\n",
    "To answer this we need to see the possible range of values for these features.\n",
    "\n",
    "After searching for these features it is revealed that out of these features only insulin can have a 0 value which also is likely to be incorrect.\n",
    "\n",
    "**So now the question is what to do with this hidden missing data??**"
   ]
  },
  {
   "cell_type": "markdown",
   "metadata": {},
   "source": [
    "### Missing data\n",
    "\n",
    "Missing data is a common problem and there are a few options to deal with them:\n",
    "* Ignore them\n",
    "* Delete the rows with missing values (Drop those observations)\n",
    "* Replace missing values with another value (Impute)\n",
    "\n",
    "Since we have 768 rows, and almost 50% of the rows have missing values we can't just ignore/delete them.\n",
    "\n",
    "Therefore we need to look at replacing those values with something else, this is called **Imputing**.\n",
    "\n",
    "**Imputing**\n",
    "* Common practice for handling missing data.\n",
    "* With imputing we have a couple of options:\n",
    "    * Replace the missing fields (or zero fieds) with mean, median or other statistic for the col.\n",
    "    * Replace the value with a new value derived from the remaining features in the row as determined by an expert.\n",
    "\n",
    "We will use the mean of the col since we don't have an expert available (mean imputing).\n",
    "    "
   ]
  },
  {
   "cell_type": "markdown",
   "metadata": {},
   "source": [
    "### Impute with the mean"
   ]
  },
  {
   "cell_type": "code",
   "execution_count": 22,
   "metadata": {
    "collapsed": true
   },
   "outputs": [],
   "source": [
    "# scikit contains an impute class which makes it very easy to impute data\n",
    "# import the Imputer class\n",
    "from sklearn.preprocessing import Imputer\n",
    "\n",
    "# Impute with mean all 0 readings for all values on the axis 0 which is col\n",
    "fill_0 = Imputer(missing_values = 0, strategy = 'mean', axis = 0)\n",
    "\n",
    "# use fit_transform function to create a new numpy array with any feature value of 0 replaced by the mean for the col\n",
    "# do this for both train and test feature values\n",
    "X_train = fill_0.fit_transform(X_train)\n",
    "X_test = fill_0.fit_transform(X_test)\n"
   ]
  },
  {
   "cell_type": "markdown",
   "metadata": {},
   "source": [
    "## Training initial algorithm - Naive Bayes"
   ]
  },
  {
   "cell_type": "code",
   "execution_count": 23,
   "metadata": {},
   "outputs": [
    {
     "data": {
      "text/plain": [
       "GaussianNB(priors=None)"
      ]
     },
     "execution_count": 23,
     "metadata": {},
     "output_type": "execute_result"
    }
   ],
   "source": [
    "# import Naive Bayes algorithm from the library\n",
    "# In case of naive_bayes there are multiple implementations \n",
    "# we are using the gaussian algo that assumes that the feature data is distributed in a gaussian \n",
    "from sklearn.naive_bayes import GaussianNB\n",
    "\n",
    "# create Gaussian Naive Bayes model object and train it with data\n",
    "nb_model = GaussianNB() # our model object\n",
    "\n",
    "# call the fit method to create a model trained with the training data \n",
    "# numpy.ravel returns a contiguous flattened array\n",
    "nb_model.fit(X_train, Y_train.ravel())"
   ]
  },
  {
   "cell_type": "markdown",
   "metadata": {},
   "source": [
    "Thats it the models trained. Now we can evaluate our model using the training data."
   ]
  },
  {
   "cell_type": "markdown",
   "metadata": {},
   "source": [
    "## Performance on Training data"
   ]
  },
  {
   "cell_type": "code",
   "execution_count": 24,
   "metadata": {},
   "outputs": [
    {
     "name": "stdout",
     "output_type": "stream",
     "text": [
      "Accuracy(%) on training data itself:  75.4190\n"
     ]
    }
   ],
   "source": [
    "# pass feature data to the models predict function\n",
    "# the predict function will return 1's and 0's representing True and False\n",
    "# lets first predict against the training data \n",
    "# X_train is the data we used to train the model\n",
    "nb_predict_train = nb_model.predict(X_train)\n",
    "\n",
    "# to see the accuracy we load the scikit metrics library\n",
    "# metrics has methods that let us get the statistics on the models predictive performance\n",
    "from sklearn import metrics\n",
    "# Accuracy\n",
    "# accuracy_score takes two parameters: the actual output data and the predicted output\n",
    "train_accuracy = metrics.accuracy_score(Y_train, nb_predict_train) # will be b/w 0 & 1\n",
    "print('Accuracy(%) on training data itself: {0: .4f}'.format(train_accuracy * 100))\n"
   ]
  },
  {
   "cell_type": "markdown",
   "metadata": {},
   "source": [
    "## Performance on Testing data"
   ]
  },
  {
   "cell_type": "code",
   "execution_count": 25,
   "metadata": {},
   "outputs": [
    {
     "name": "stdout",
     "output_type": "stream",
     "text": [
      "Accuracy(%) on test data:  73.5931\n"
     ]
    }
   ],
   "source": [
    "# Now lets predict against the testing data\n",
    "# X_test is the data we kept aside for testing\n",
    "nb_predict_test = nb_model.predict(X_test)\n",
    "# Y_test is the actual output and nb_predict_test is the predicted one \n",
    "test_accuracy = metrics.accuracy_score(Y_test, nb_predict_test)\n",
    "print('Accuracy(%) on test data: {0: .4f}'.format(test_accuracy * 100))"
   ]
  },
  {
   "cell_type": "markdown",
   "metadata": {},
   "source": [
    "Looks good but let's dive deeper into the metrics to see how this accuracy was derived and to see if our original goal of 70% prediction rate for diabetes was reached."
   ]
  },
  {
   "cell_type": "markdown",
   "metadata": {},
   "source": [
    "#### Metrics"
   ]
  },
  {
   "cell_type": "code",
   "execution_count": 26,
   "metadata": {},
   "outputs": [
    {
     "name": "stdout",
     "output_type": "stream",
     "text": [
      "Confusion Matrix\n",
      "[[ 52  28]\n",
      " [ 33 118]]\n",
      "\n"
     ]
    }
   ],
   "source": [
    "# Confusion matrix provides the True Positive, False Positive, False Negative & True Negative.\n",
    "print('Confusion Matrix')\n",
    "# the labels are for 1 = True to upper left and 0 = False to lower right\n",
    "print(metrics.confusion_matrix(Y_test, nb_predict_test, labels=[1, 0]))\n",
    "print('')\n"
   ]
  },
  {
   "cell_type": "markdown",
   "metadata": {},
   "source": [
    "From the confusion matrix we find:\n",
    "TP = 52, FP = 33, FN = 28 and TN = 118\n",
    "\n",
    "A perfect classifier would have the following values:\n",
    "TP = 80, FP = 0, FN = 0 and TN = 151\n",
    "\n",
    "* True Positive (TP) - Actual diabetes and predicted to be diabetes.\n",
    "* False Negative (FN) - Actual diabetes but were predicted to be not diabetes.\n",
    "* False Positive (FP) - Actual not diabetes but were predicted to be diabetes\n",
    "* True Negative (TN) - Actual not diabetes and predicted to be not diabetes"
   ]
  },
  {
   "cell_type": "markdown",
   "metadata": {},
   "source": [
    "**Does this model predict with 70% or greater accuracy which people are likely to develop diabetes???**\n",
    "\n",
    "To see that we need the classification report."
   ]
  },
  {
   "cell_type": "code",
   "execution_count": 27,
   "metadata": {},
   "outputs": [
    {
     "name": "stdout",
     "output_type": "stream",
     "text": [
      "Classification report\n",
      "             precision    recall  f1-score   support\n",
      "\n",
      "          1       0.61      0.65      0.63        80\n",
      "          0       0.81      0.78      0.79       151\n",
      "\n",
      "avg / total       0.74      0.74      0.74       231\n",
      "\n"
     ]
    }
   ],
   "source": [
    "# the classification report generates statistics based on the values shown in the confusion matrix.\n",
    "print('Classification report')\n",
    "print(metrics.classification_report(Y_test, nb_predict_test, labels = [1, 0]))"
   ]
  },
  {
   "cell_type": "markdown",
   "metadata": {},
   "source": [
    "Based on our problem statement we want to focus on the probability of a True (1) result meaning the patient has the disease.\n",
    "\n",
    "The **recall** is also known as True Positive rate and sensitivity, it is how well the model is predicting diabetes when the patient does have diabetes.\n",
    "\n",
    "Recall = TP / (TP + FN) = 52 / (52 + 28) = 52 / 80 = 0.65 or **65%** \n",
    "\n",
    "The **precision** is also known as the positive predictor value, this is how often patient actually had diabetes when the model predicted they would.\n",
    "\n",
    "Precision = TP / (TP + FP) = 52 / (52 + 33) = 52 / 85 = 0.61 or **61%**\n"
   ]
  },
  {
   "cell_type": "markdown",
   "metadata": {},
   "source": [
    "**Model Performance**: Both recall and precision for True (1) are less than our expected goal of 70% or more."
   ]
  },
  {
   "cell_type": "markdown",
   "metadata": {},
   "source": [
    "## Performance Improvement Options"
   ]
  },
  {
   "cell_type": "markdown",
   "metadata": {},
   "source": [
    "We have several options for improving performance\n",
    "* Adjust the current algorithm - tune hyper parameters\n",
    "* Get more data or improve data\n",
    "* Improve training \n",
    "* Switch algorithms \n",
    "\n",
    "Since the Naive Bayes model doesn't have any parameters we can't tune the algorithm.\n",
    "\n",
    "The data is also limited so we focus on changing the algorithm first and then improve the training."
   ]
  },
  {
   "cell_type": "markdown",
   "metadata": {},
   "source": [
    "## New Training Algorithm - Random Forest"
   ]
  },
  {
   "cell_type": "markdown",
   "metadata": {},
   "source": [
    "Random Forest is a powerful algorithm with following features:\n",
    "* Ensemble Algorithm\n",
    "* Based on Decision Trees\n",
    "* Fits multiple tress with random subsets of training data\n",
    "* Averages tree results to improve performance and control overfitting."
   ]
  },
  {
   "cell_type": "code",
   "execution_count": 28,
   "metadata": {},
   "outputs": [
    {
     "data": {
      "text/plain": [
       "RandomForestClassifier(bootstrap=True, class_weight=None, criterion='gini',\n",
       "            max_depth=None, max_features='auto', max_leaf_nodes=None,\n",
       "            min_impurity_decrease=0.0, min_impurity_split=None,\n",
       "            min_samples_leaf=1, min_samples_split=2,\n",
       "            min_weight_fraction_leaf=0.0, n_estimators=10, n_jobs=1,\n",
       "            oob_score=False, random_state=54, verbose=0, warm_start=False)"
      ]
     },
     "execution_count": 28,
     "metadata": {},
     "output_type": "execute_result"
    }
   ],
   "source": [
    "# import random forest from scikit\n",
    "from sklearn.ensemble import RandomForestClassifier\n",
    "\n",
    "rf_model = RandomForestClassifier(random_state = 54) # Create random forest object\n",
    "rf_model.fit(X_train, Y_train.ravel())"
   ]
  },
  {
   "cell_type": "markdown",
   "metadata": {},
   "source": [
    "### Prediction using Random Forest"
   ]
  },
  {
   "cell_type": "markdown",
   "metadata": {},
   "source": [
    "#### Predict Training Data"
   ]
  },
  {
   "cell_type": "code",
   "execution_count": 29,
   "metadata": {},
   "outputs": [
    {
     "name": "stdout",
     "output_type": "stream",
     "text": [
      "Accuracy: 0.9832\n"
     ]
    }
   ],
   "source": [
    "rf_predict_train = rf_model.predict(X_train)\n",
    "# training metrics\n",
    "print('Accuracy: {0:.4f}'.format(metrics.accuracy_score(Y_train, rf_predict_train)))"
   ]
  },
  {
   "cell_type": "markdown",
   "metadata": {},
   "source": [
    "#### Predict Test Data"
   ]
  },
  {
   "cell_type": "code",
   "execution_count": 30,
   "metadata": {},
   "outputs": [
    {
     "name": "stdout",
     "output_type": "stream",
     "text": [
      "Accuracy: 0.7359\n"
     ]
    }
   ],
   "source": [
    "rf_predict_test = rf_model.predict(X_test)\n",
    "# training metrics\n",
    "print('Accuracy: {0:.4f}'.format(metrics.accuracy_score(Y_test, rf_predict_test)))"
   ]
  },
  {
   "cell_type": "markdown",
   "metadata": {},
   "source": [
    "#### Perfomance metrics on Test Data"
   ]
  },
  {
   "cell_type": "code",
   "execution_count": 31,
   "metadata": {},
   "outputs": [
    {
     "name": "stdout",
     "output_type": "stream",
     "text": [
      "[[ 47  33]\n",
      " [ 28 123]]\n",
      "\n",
      "Classification report\n",
      "             precision    recall  f1-score   support\n",
      "\n",
      "          1       0.63      0.59      0.61        80\n",
      "          0       0.79      0.81      0.80       151\n",
      "\n",
      "avg / total       0.73      0.74      0.73       231\n",
      "\n"
     ]
    }
   ],
   "source": [
    "print(metrics.confusion_matrix(Y_test, rf_predict_test, labels=[1, 0]))\n",
    "print('')\n",
    "print('Classification report')\n",
    "print(metrics.classification_report(Y_test, rf_predict_test, labels=[1, 0]))"
   ]
  },
  {
   "cell_type": "markdown",
   "metadata": {},
   "source": [
    "*As can be seen despite perfect accuracy of the algorithm in training data, it fails to achieve 70% target falling well short.\n",
    "This is a classic case of overfitting, the model shows big difference in training and test data.\n",
    "The algorithm is overfitting the training data i.e., model has learned the training data too well.* \n",
    "\n",
    "**Model Performance**: Both recall and precision for True (1) are less than our expected goal of 70% or more."
   ]
  },
  {
   "cell_type": "markdown",
   "metadata": {},
   "source": [
    "### Overfitting"
   ]
  },
  {
   "cell_type": "markdown",
   "metadata": {},
   "source": [
    "* Train with training data.\n",
    "* Complex decision boundary.\n",
    "* Good fit of training data.\n",
    "* Poor fit of test data."
   ]
  },
  {
   "cell_type": "markdown",
   "metadata": {},
   "source": [
    "### Fixing Overfitting"
   ]
  },
  {
   "cell_type": "markdown",
   "metadata": {},
   "source": [
    "#### Changing Regularization hyperparameter"
   ]
  },
  {
   "cell_type": "markdown",
   "metadata": {},
   "source": [
    "* Change hyperparameters of the algorithm to define how the algorithm learns and operates.\n",
    "* hyperparameter that impacts overfitting - Regularization hyperparameter.\n",
    "* Setting the value of the Regulariztion hyperparameter allows the developer to control how much the algorithm focuses on precisely fitting every corner case of the training data, the regularization term dampens the values produced by the trained model, this dampning decreases the accuracy of the model on training data but potentially increases the accuracy of the trained model on new data.\n",
    "* Many algorithms have regularization parameter.\n",
    "* Some experimentation is required to get the best values for hyperparameters with the specific data"
   ]
  },
  {
   "cell_type": "markdown",
   "metadata": {},
   "source": [
    "#### Cross validation "
   ]
  },
  {
   "cell_type": "markdown",
   "metadata": {},
   "source": [
    "* Use multiple subsets of the training data during the training process"
   ]
  },
  {
   "cell_type": "markdown",
   "metadata": {},
   "source": [
    "*Come up with a compromise b/w accuracy with training data and accuracy with testing and real world data.\n",
    "This is called **Bias-variance trade-off***.\n",
    "Sacrifice some perfection in training for better overall performance with test and real world data."
   ]
  },
  {
   "cell_type": "markdown",
   "metadata": {},
   "source": [
    "### Performance Improvement Options"
   ]
  },
  {
   "cell_type": "markdown",
   "metadata": {},
   "source": [
    "* Adjust the current random forest algorithm.\n",
    "* Get more data or imporve data to prevent overfitting.\n",
    "* Improve training using cross validation.\n",
    "* Switch Alogrithms."
   ]
  },
  {
   "cell_type": "markdown",
   "metadata": {},
   "source": [
    "*Since the default hyperparameters for overfitting are set already and we have no extra data plus cross validation isn't too much of a help for random forest so we switch algorithm to Logistic Regression.*"
   ]
  },
  {
   "cell_type": "markdown",
   "metadata": {},
   "source": [
    "### Logistic Regression"
   ]
  },
  {
   "cell_type": "markdown",
   "metadata": {},
   "source": [
    "* Simple and works quite well in many classification algorithms."
   ]
  },
  {
   "cell_type": "code",
   "execution_count": 32,
   "metadata": {
    "collapsed": true
   },
   "outputs": [],
   "source": [
    "# import the algo from sci-kit learn linear model module\n",
    "from sklearn.linear_model import LogisticRegression"
   ]
  },
  {
   "cell_type": "code",
   "execution_count": 33,
   "metadata": {
    "collapsed": true
   },
   "outputs": [],
   "source": [
    "# set up the model\n",
    "# C - regulatization hyperparameter \n",
    "lr_model = LogisticRegression(C=0.7, random_state=54) # set c to 0.7 initially"
   ]
  },
  {
   "cell_type": "code",
   "execution_count": 34,
   "metadata": {},
   "outputs": [
    {
     "data": {
      "text/plain": [
       "LogisticRegression(C=0.7, class_weight=None, dual=False, fit_intercept=True,\n",
       "          intercept_scaling=1, max_iter=100, multi_class='ovr', n_jobs=1,\n",
       "          penalty='l2', random_state=54, solver='liblinear', tol=0.0001,\n",
       "          verbose=0, warm_start=False)"
      ]
     },
     "execution_count": 34,
     "metadata": {},
     "output_type": "execute_result"
    }
   ],
   "source": [
    "# train the algo\n",
    "lr_model.fit(X_train, Y_train.ravel())"
   ]
  },
  {
   "cell_type": "markdown",
   "metadata": {},
   "source": [
    "#### Prediction on Training Data "
   ]
  },
  {
   "cell_type": "code",
   "execution_count": 35,
   "metadata": {},
   "outputs": [
    {
     "name": "stdout",
     "output_type": "stream",
     "text": [
      "Logistic Regression -> Accuracy on training data: 0.7728\n"
     ]
    }
   ],
   "source": [
    "# evaluate against the training data\n",
    "lr_predict_train = lr_model.predict(X_train)\n",
    "# training metrics\n",
    "print('Logistic Regression -> Accuracy on training data: {0:.4f}'.format(metrics.accuracy_score(Y_train, lr_predict_train)))"
   ]
  },
  {
   "cell_type": "markdown",
   "metadata": {},
   "source": [
    "#### Prediction on Test Data"
   ]
  },
  {
   "cell_type": "code",
   "execution_count": 36,
   "metadata": {},
   "outputs": [
    {
     "name": "stdout",
     "output_type": "stream",
     "text": [
      "Logistic Regression -> Accuracy on test data: Accuracy: 0.7446\n"
     ]
    }
   ],
   "source": [
    "lr_predict_test = lr_model.predict(X_test)\n",
    "# training metrics\n",
    "print('Logistic Regression -> Accuracy on test data: Accuracy: {0:.4f}'.format(metrics.accuracy_score(Y_test, lr_predict_test)))"
   ]
  },
  {
   "cell_type": "markdown",
   "metadata": {},
   "source": [
    "#### Performance metrics on Test Data"
   ]
  },
  {
   "cell_type": "code",
   "execution_count": 37,
   "metadata": {},
   "outputs": [
    {
     "name": "stdout",
     "output_type": "stream",
     "text": [
      "[[ 44  36]\n",
      " [ 23 128]]\n",
      "\n",
      "Classification report\n",
      "             precision    recall  f1-score   support\n",
      "\n",
      "          1       0.66      0.55      0.60        80\n",
      "          0       0.78      0.85      0.81       151\n",
      "\n",
      "avg / total       0.74      0.74      0.74       231\n",
      "\n"
     ]
    }
   ],
   "source": [
    "print(metrics.confusion_matrix(Y_test, lr_predict_test, labels=[1, 0]))\n",
    "print('')\n",
    "print('Classification report')\n",
    "print(metrics.classification_report(Y_test, lr_predict_test, labels=[1, 0]))"
   ]
  },
  {
   "cell_type": "markdown",
   "metadata": {},
   "source": [
    "**Model Performance**: Both recall and precision for True (1) are less than our expected goal of 70% or more.\n",
    "\n",
    "*The scores look promising but we are still not getting the above 70% recall score we want, so lets tune the regularization parameter.*"
   ]
  },
  {
   "cell_type": "markdown",
   "metadata": {},
   "source": [
    "#### Setting the regularization parameter"
   ]
  },
  {
   "cell_type": "markdown",
   "metadata": {},
   "source": [
    "A loop selects the regularization parameter which returns the highest recall"
   ]
  },
  {
   "cell_type": "code",
   "execution_count": 38,
   "metadata": {},
   "outputs": [
    {
     "name": "stdout",
     "output_type": "stream",
     "text": [
      "recall max value of 0.613 occured at C=1.400\n"
     ]
    }
   ],
   "source": [
    "# try C values from 0 to 4.9 in increments of 0.1\n",
    "# for each C value a logistic regression object is created\n",
    "# then trained with the training data and then used to predict the test results\n",
    "# Each test recall score is computed and the highest recall score is recorded,\n",
    "# the score is used to get the C value that produced the highest recall score. \n",
    "# see which C value results in the best recall score\n",
    "C_start = 0.1\n",
    "C_end = 5\n",
    "C_inc = 0.1\n",
    "C_values, recall_scores = [], [] # used to hold the C_values and their corresponding recall_scores\n",
    "\n",
    "C_val = C_start\n",
    "best_recall_score = 0\n",
    "# this while loop will try C values from 0.1 to 4.9\n",
    "while C_val < C_end:\n",
    "    # add this C_val to the array\n",
    "    C_values.append(C_val)\n",
    "    \n",
    "    # create LR object using current C value\n",
    "    lr_model_loop = LogisticRegression(C=C_val, random_state = 35)\n",
    "    # Train the algo \n",
    "    lr_model_loop.fit(X_train, Y_train.ravel())\n",
    "    # Predict using test data\n",
    "    lr_predict_loop_test = lr_model_loop.predict(X_test)\n",
    "    # Get the recall score\n",
    "    recall_score = metrics.recall_score(Y_test, lr_predict_loop_test)\n",
    "    \n",
    "    # add the recall_score to the array\n",
    "    recall_scores.append(recall_score)\n",
    "    \n",
    "    # if current recall_score is greater than the best so far then update the best scores\n",
    "    if recall_score > best_recall_score:\n",
    "        best_recall_score = recall_score # update the best_recall_score\n",
    "        best_lr_predict_test = lr_predict_loop_test # also the predictions for best score\n",
    "    \n",
    "    # increment the C_val\n",
    "    C_val += C_inc \n",
    "\n",
    "# get the best C_val from the array\n",
    "best_score_C_val = C_values[recall_scores.index(best_recall_score)]\n",
    "print('recall max value of {0:.3f} occured at C={1:.3f}'.format(best_recall_score, best_score_C_val))\n",
    "  "
   ]
  },
  {
   "cell_type": "code",
   "execution_count": 39,
   "metadata": {},
   "outputs": [
    {
     "data": {
      "text/plain": [
       "Text(0.5,1,'Regularization parameter C vs Recall Score for unbalanced class weight\\n')"
      ]
     },
     "execution_count": 39,
     "metadata": {},
     "output_type": "execute_result"
    },
    {
     "data": {
      "image/png": "[encoded data removed]",
      "text/plain": [
       "<matplotlib.figure.Figure at 0x1ab55ca94a8>"
      ]
     },
     "metadata": {},
     "output_type": "display_data"
    }
   ],
   "source": [
    "# we also plot the recall scores vs regularization value\n",
    "# so as to get an idea of how recall changes with different regularization values  \n",
    "plt.plot(C_values, recall_scores, '-')\n",
    "plt.xlabel('Regularization parameter C')\n",
    "plt.ylabel('Recall Score')\n",
    "plt.title('Regularization parameter C vs Recall Score for unbalanced class weight\\n')"
   ]
  },
  {
   "cell_type": "markdown",
   "metadata": {},
   "source": [
    "*We are still not getting recall score of above 70%, what else can be tried.*\n",
    "\n",
    "**Remember our data had more non-diabetes results than diabetes results, perhaps this imbalance is causing an issue.** "
   ]
  },
  {
   "cell_type": "markdown",
   "metadata": {},
   "source": [
    "### Unbalanced Classes"
   ]
  },
  {
   "cell_type": "markdown",
   "metadata": {},
   "source": [
    "* Very common in data sets\n",
    "* They occur when one class result (diabetes vs not-diabetes in our data) occur more than the other.\n",
    "* The data in this case - 65% No Diabetes, 35% Diabetes\n",
    "* This imbalance in the classes can decrease the performance of an algorithm\n",
    "* Can be causing biases estimation yielding poor prediction results."
   ]
  },
  {
   "cell_type": "markdown",
   "metadata": {},
   "source": [
    "### Fixing Unbalanced Classes"
   ]
  },
  {
   "cell_type": "markdown",
   "metadata": {},
   "source": [
    "*Some algorithm implementations including Logistics Regression in sci-kit learn include a hyperparameter that instructs the algorithm to compensate for the class imbalance. This results in a shift in the predicted class boundary.* "
   ]
  },
  {
   "cell_type": "markdown",
   "metadata": {},
   "source": [
    "#### Logistic Regression with class_weight='balanced'"
   ]
  },
  {
   "cell_type": "markdown",
   "metadata": {},
   "source": [
    "Lets enable this hyperparameter in LR model\n",
    "\n",
    "See if it fixes the class imbalance and more importantly improves our models predictive capabilites."
   ]
  },
  {
   "cell_type": "code",
   "execution_count": 40,
   "metadata": {},
   "outputs": [
    {
     "name": "stdout",
     "output_type": "stream",
     "text": [
      "recall max value of 0.738 occured at C=0.300 with balanced classes\n"
     ]
    }
   ],
   "source": [
    "# everythings remains the same except for the class_weight hyperparameter set in the LR object.\n",
    "\n",
    "C_start = 0.1\n",
    "C_end = 5\n",
    "C_inc = 0.1\n",
    "C_values, recall_scores = [], [] # used to hold the C_values and their corresponding recall_scores\n",
    "\n",
    "C_val = C_start\n",
    "best_recall_score = 0\n",
    "# this while loop will try C values from 0.1 to 4.9\n",
    "while C_val < C_end:\n",
    "    # add this C_val to the array\n",
    "    C_values.append(C_val)\n",
    "    \n",
    "    # create LR object using current C value and hyperparamter class_weight set to balanced\n",
    "    lr_model_loop = LogisticRegression(C=C_val, class_weight='balanced', random_state = 35)\n",
    "    # Train the algo \n",
    "    lr_model_loop.fit(X_train, Y_train.ravel())\n",
    "    # Predict using test data\n",
    "    lr_predict_loop_test = lr_model_loop.predict(X_test)\n",
    "    # Get the recall score\n",
    "    recall_score = metrics.recall_score(Y_test, lr_predict_loop_test)\n",
    "    \n",
    "    # add the recall_score to the array\n",
    "    recall_scores.append(recall_score)\n",
    "    \n",
    "    # if current recall_score is greater than the best so far then update the best scores\n",
    "    if recall_score > best_recall_score:\n",
    "        best_recall_score = recall_score # update the best_recall_score\n",
    "        best_lr_predict_test = lr_predict_loop_test # also the predictions for best score\n",
    "    \n",
    "    # increment the C_val\n",
    "    C_val += C_inc \n",
    "\n",
    "# get the best C_val from the array\n",
    "best_score_C_val = C_values[recall_scores.index(best_recall_score)]\n",
    "print('recall max value of {0:.3f} occured at C={1:.3f} with balanced classes'.format(best_recall_score, best_score_C_val))"
   ]
  },
  {
   "cell_type": "code",
   "execution_count": 41,
   "metadata": {},
   "outputs": [
    {
     "data": {
      "text/plain": [
       "Text(0.5,1,'Regularization parameter C vs Recall Score for balanced class weight\\n')"
      ]
     },
     "execution_count": 41,
     "metadata": {},
     "output_type": "execute_result"
    },
    {
     "data": {
      "image/png": "[encoded data removed]",
      "text/plain": [
       "<matplotlib.figure.Figure at 0x1ab54465f28>"
      ]
     },
     "metadata": {},
     "output_type": "display_data"
    }
   ],
   "source": [
    "# we also plot the recall scores vs regularization value\n",
    "# so as to get an idea of how recall changes with different regularization values  \n",
    "plt.plot(C_values, recall_scores, '-')\n",
    "plt.xlabel('Regularization parameter C')\n",
    "plt.ylabel('Recall Score')\n",
    "plt.title('Regularization parameter C vs Recall Score for balanced class weight\\n')"
   ]
  },
  {
   "cell_type": "markdown",
   "metadata": {},
   "source": [
    "*Finally we get a recall score of above 70%.*"
   ]
  },
  {
   "cell_type": "code",
   "execution_count": 47,
   "metadata": {},
   "outputs": [
    {
     "name": "stdout",
     "output_type": "stream",
     "text": [
      "LR model with best C value & balanced weights -> Accuracy on training data: 0.7449\n",
      "\n",
      "LR model with best C value & balanced weights -> Accuracy on test data: 0.7143\n",
      "\n",
      "The confusion matrix for LR model with best C value and balanced weights is: \n",
      "[[ 59  21]\n",
      " [ 45 106]]\n",
      "\n",
      "Classification report for LR model with best C value and balanced weights: \n",
      "             precision    recall  f1-score   support\n",
      "\n",
      "          1       0.57      0.74      0.64        80\n",
      "          0       0.83      0.70      0.76       151\n",
      "\n",
      "avg / total       0.74      0.71      0.72       231\n",
      "\n"
     ]
    }
   ],
   "source": [
    "# now we can train our model with the best hyperparameter C_value  and class_weigh balanced\n",
    "best_lr_model = LogisticRegression(class_weight='balanced', C=best_score_C_val, random_state=35)\n",
    "best_lr_model.fit(X_train, Y_train.ravel())\n",
    "best_lr_predict_train = best_lr_model.predict(X_train)\n",
    "best_lr_predict_test = best_lr_model.predict(X_test)\n",
    "# and calculate the performance metrics\n",
    "# training metrics on training data\n",
    "print('LR model with best C value & balanced weights -> Accuracy on training data: {0:.4f}'.format(metrics.accuracy_score(Y_train, best_lr_predict_train)))\n",
    "print('')\n",
    "# training metrics on test data\n",
    "print('LR model with best C value & balanced weights -> Accuracy on test data: {0:.4f}'.format(metrics.accuracy_score(Y_test, best_lr_predict_test)))\n",
    "print('')\n",
    "# performance metrics on test data\n",
    "print('The confusion matrix for LR model with best C value and balanced weights is: ')\n",
    "print(metrics.confusion_matrix(Y_test, best_lr_predict_test, labels=[1, 0]))\n",
    "print('')\n",
    "print('Classification report for LR model with best C value and balanced weights: ')\n",
    "print(metrics.classification_report(Y_test, best_lr_predict_test, labels=[1, 0]))"
   ]
  },
  {
   "cell_type": "markdown",
   "metadata": {},
   "source": [
    "**Model Performance**: recall for True (1) is greater than our expected goal of 70% or more.\n",
    "\n",
    "*Goal achieved of 70% or greater accuracy in predicting diabetes*"
   ]
  },
  {
   "cell_type": "markdown",
   "metadata": {
    "collapsed": true
   },
   "source": [
    "### Few issues "
   ]
  },
  {
   "cell_type": "markdown",
   "metadata": {},
   "source": [
    "* The recall score of 70% is achieved with just one set of test data\n",
    "* By looping through the values for setting regularization parameter we indirectly set the regularization parameter based upon the test data.\n",
    "\n",
    "#### Issues with Train - Test Split\n",
    "* Divide the data into training and test dataset.\n",
    "* As we imporve the model we make adjustments to the model and retest on the test data.\n",
    "* This way we are influenced by results with test data and indirectly tune the model to fit the test data.\n",
    "* Thus our models performance on test data may not match the performance in real world data."
   ]
  },
  {
   "cell_type": "markdown",
   "metadata": {},
   "source": [
    "### Key Questions\n",
    "*Is there some way we can test on more data and ensure we have the algorithm tuned to perform well on a wide set of data ?*\n",
    "\n",
    "*How can we evaluate training without using test data ?*\n",
    "\n",
    "We need some data to tune hyper parameters, and leave the test data aside for final testing only. \n",
    "\n",
    "Yes, we trade some performance in the test set for better performance on wider set of data "
   ]
  },
  {
   "cell_type": "markdown",
   "metadata": {},
   "source": [
    "### Few Solutions"
   ]
  },
  {
   "cell_type": "markdown",
   "metadata": {},
   "source": [
    "#### Train - Validation - Test Split\n",
    "* Divide the data into three datasets: Train - Validation - Test\n",
    "* We use the validation set to tune and validate our model and only use the testing data for a final test.\n",
    "* Very common technique.\n",
    "* How to choose the validation set?\n",
    "* Split 50% Training - 25% Validation - 25% Testing.\n",
    "* If data isn't enough, this can be difficult.\n",
    "* Also overtraining isn't addressed by this solution.\n",
    "\n",
    "#### K-fold Cross Validation\n",
    "* Doesn't use Testing data for evaluation\n",
    "* Splits the training data into ten folds each of the same size.\n",
    "* Then select one fold as the validation set, and make the other folds the training set.\n",
    "* Train the algorithm and evaluate with the fold which is the validation set\n",
    "* Repeat the training and evaluation with th other folds as the validation set until each of the folds has been used as the validation data.\n",
    "* The result of each loop through one fold is a set of values parameters and the associated accuracy + perfomance metrics.\n",
    "* This k-fold structure provides capability to generate multiple values with which to tune the hyper parameter.\n",
    "\n",
    "**Tuning Hyperparameters with Cross validation**\n",
    "\n",
    "For each fold\n",
    "\n",
    "    Determine the best hyperparameter value\n",
    "Next\n",
    "    \n",
    "    Set hyperparameter value to average best\n",
    "\n",
    "This provides the model with a hyper parameter that may not perform the best on a specific fold or other subset of data but in general perfors well in all data.\n"
   ]
  },
  {
   "cell_type": "code",
   "execution_count": 48,
   "metadata": {
    "collapsed": true
   },
   "outputs": [],
   "source": [
    "## scikit-learn cross validation library to access cross validation methods\n",
    "## that make it easy to perform k-fold cross validation \n",
    "\n",
    "# scikit-learn provides special ensemble versions of the algorithms that contain the code\n",
    "# to determine the optimal hyperparamter value and set the model to that value\n",
    "\n",
    "# AlgorithmCV built in Variants\n",
    "    ## Can be used just like normal algorithms\n",
    "    ## Take little longer to run \n",
    "    ## They begin with the base class name and end with CV\n",
    "    ## Expose fit(), predict(),...\n",
    "    ## Use the parameters in the constructor to specify things such as no of folds \n",
    "    ## The algorithm in then run k times\n",
    "    ## When fit is then run k-fold validation is run with k folds on the training data\n",
    "    ## the other parameters in the constructor let you define how the optimal value for hyperparameters is determined (mean, median)\n",
    "    ## Algorithm + Cross Validation = AlgorithmCV"
   ]
  },
  {
   "cell_type": "markdown",
   "metadata": {},
   "source": [
    "### Logistic Regression With Cross Validation"
   ]
  },
  {
   "cell_type": "code",
   "execution_count": 125,
   "metadata": {},
   "outputs": [
    {
     "data": {
      "text/plain": [
       "LogisticRegressionCV(Cs=3, class_weight='balanced', cv=10, dual=False,\n",
       "           fit_intercept=True, intercept_scaling=1.0, max_iter=100,\n",
       "           multi_class='ovr', n_jobs=-1, penalty='l2', random_state=None,\n",
       "           refit=True, scoring=None, solver='liblinear', tol=0.0001,\n",
       "           verbose=0)"
      ]
     },
     "execution_count": 125,
     "metadata": {},
     "output_type": "execute_result"
    }
   ],
   "source": [
    "# scikit learn has an ensemble algorithm that combines logistic regression with cross validation called LogisticRegressionCV\n",
    "from sklearn.linear_model import LogisticRegressionCV\n",
    "\n",
    "# n_jobs -> use all the cores resources on the system\n",
    "# cv -> no of folds\n",
    "# Cs -> smaller values specify stronger regularization\n",
    "# solver -> algorithm to use in the optimization problem (default - 'lbfgs')\n",
    "lr_cv_model = LogisticRegressionCV(n_jobs=-1, Cs=3, refit=True, max_iter=100, solver='liblinear', cv=10, class_weight='balanced')\n",
    "lr_cv_model.fit(X_train, Y_train.ravel())"
   ]
  },
  {
   "cell_type": "markdown",
   "metadata": {},
   "source": [
    "### Predict on train data"
   ]
  },
  {
   "cell_type": "code",
   "execution_count": 126,
   "metadata": {},
   "outputs": [
    {
     "name": "stdout",
     "output_type": "stream",
     "text": [
      "Accuracy on training data: 0.7765\n",
      "\n",
      "The confusion matrix for LR CV model with cross validation and balanced weights on training data is: \n",
      "[[144  44]\n",
      " [ 76 273]]\n",
      "\n",
      "Classification report for LR CV model with cross validation and balanced weights on training data is: \n",
      "             precision    recall  f1-score   support\n",
      "\n",
      "          1       0.65      0.77      0.71       188\n",
      "          0       0.86      0.78      0.82       349\n",
      "\n",
      "avg / total       0.79      0.78      0.78       537\n",
      "\n",
      " 1 -> Diabetic\n",
      " 0 -> Not Diabetic\n"
     ]
    }
   ],
   "source": [
    "lr_cv_predict_train = lr_cv_model.predict(X_train)\n",
    "\n",
    "# training metrics\n",
    "print('Accuracy on training data: {0:.4f}'.format(metrics.accuracy_score(Y_train, lr_cv_predict_train)))\n",
    "print(\"\")\n",
    "print('The confusion matrix for LR CV model with cross validation and balanced weights on training data is: ')\n",
    "print(metrics.confusion_matrix(Y_train, lr_cv_predict_train, labels=[1, 0]))\n",
    "print('')\n",
    "print('Classification report for LR CV model with cross validation and balanced weights on training data is: ')\n",
    "print(metrics.classification_report(Y_train, lr_cv_predict_train, labels=[1, 0]))\n",
    "print(' 1 -> Diabetic\\n 0 -> Not Diabetic')"
   ]
  },
  {
   "cell_type": "markdown",
   "metadata": {},
   "source": [
    "### Predict on test data"
   ]
  },
  {
   "cell_type": "code",
   "execution_count": 127,
   "metadata": {},
   "outputs": [
    {
     "name": "stdout",
     "output_type": "stream",
     "text": [
      "Accuracy on testing data: 0.7056\n",
      "\n",
      "The confusion matrix for LR CV model with cross validation and balanced weights on training data is: \n",
      "[[ 56  24]\n",
      " [ 44 107]]\n",
      "\n",
      "Classification report for LR CV model with cross validation and balanced weights on training data is: \n",
      "             precision    recall  f1-score   support\n",
      "\n",
      "          1       0.56      0.70      0.62        80\n",
      "          0       0.82      0.71      0.76       151\n",
      "\n",
      "avg / total       0.73      0.71      0.71       231\n",
      "\n",
      " 1 -> Diabetic\n",
      " 0 -> Not Diabetic\n"
     ]
    }
   ],
   "source": [
    "lr_cv_predict_test = lr_cv_model.predict(X_test)\n",
    "\n",
    "# training metrics\n",
    "print('Accuracy on testing data: {0:.4f}'.format(metrics.accuracy_score(Y_test, lr_cv_predict_test)))\n",
    "print(\"\")\n",
    "print('The confusion matrix for LR CV model with cross validation and balanced weights on training data is: ')\n",
    "print(metrics.confusion_matrix(Y_test, lr_cv_predict_test, labels=[1, 0]))\n",
    "print('')\n",
    "print('Classification report for LR CV model with cross validation and balanced weights on training data is: ')\n",
    "print(metrics.classification_report(Y_test, lr_cv_predict_test, labels=[1, 0]))\n",
    "print(' 1 -> Diabetic\\n 0 -> Not Diabetic')"
   ]
  },
  {
   "cell_type": "markdown",
   "metadata": {},
   "source": [
    "*The recall score is not quite high as before when we tuned it against the test data but by using cross validation chances are the results will be better on real world data.*\n",
    "\n",
    "*There are lots of parameters to adjust in these ensemble algorithms and some are quite powerful and can push the score even higher* "
   ]
  },
  {
   "cell_type": "markdown",
   "metadata": {},
   "source": [
    "### Trying Neural Network"
   ]
  },
  {
   "cell_type": "code",
   "execution_count": 182,
   "metadata": {},
   "outputs": [
    {
     "data": {
      "text/plain": [
       "MLPClassifier(activation='relu', alpha=0.0001, batch_size='auto', beta_1=0.9,\n",
       "       beta_2=0.999, early_stopping=False, epsilon=1e-08,\n",
       "       hidden_layer_sizes=(3, 3, 3), learning_rate='constant',\n",
       "       learning_rate_init=0.001, max_iter=20000, momentum=0.9,\n",
       "       nesterovs_momentum=True, power_t=0.5, random_state=None,\n",
       "       shuffle=True, solver='adam', tol=0.0001, validation_fraction=0.1,\n",
       "       verbose=False, warm_start=False)"
      ]
     },
     "execution_count": 182,
     "metadata": {},
     "output_type": "execute_result"
    }
   ],
   "source": [
    "# import the algorithm\n",
    "# Multi-layer Perceptron (MLP) is a supervised learning algorithm\n",
    "# MLPClassifier implements a multi-layer perceptron (MLP) algorithm \n",
    "    # that trains using Backpropagation.\n",
    "from sklearn.neural_network import MLPClassifier\n",
    "# initialize the MLP classifier model with parameters\n",
    "NN_classifier = MLPClassifier(hidden_layer_sizes=((3, 3, 3)), max_iter=20000)\n",
    "\n",
    "from sklearn.preprocessing import StandardScaler\n",
    "scaler = StandardScaler()\n",
    "X_train = scaler.fit_transform(X_train)\n",
    "# train the model with the training set inputs and outputs \n",
    "NN_classifier.fit(X_train, Y_train.ravel())\n"
   ]
  },
  {
   "cell_type": "code",
   "execution_count": 183,
   "metadata": {},
   "outputs": [],
   "source": [
    "# Now lets predict test set using the NN_classifier\n",
    "predicted_NN = NN_classifier.predict(X_test)"
   ]
  },
  {
   "cell_type": "code",
   "execution_count": 184,
   "metadata": {},
   "outputs": [
    {
     "name": "stdout",
     "output_type": "stream",
     "text": [
      "Accuracy on testing data: 0.3550\n",
      "\n",
      "Classification report for NN_classifier on test data is: \n",
      "             precision    recall  f1-score   support\n",
      "\n",
      "          1       0.35      0.99      0.51        80\n",
      "          0       0.75      0.02      0.04       151\n",
      "\n",
      "avg / total       0.61      0.35      0.20       231\n",
      "\n",
      " 1 -> Diabetic\n",
      " 0 -> Not Diabetic\n"
     ]
    }
   ],
   "source": [
    "# Lets see the accuracy of the predictions \n",
    "    # and the overall performance metrics\n",
    "print('Accuracy on testing data: {0:.4f}'.format(metrics.accuracy_score(Y_test, predicted_NN)))\n",
    "print(\"\")\n",
    "print('Classification report for NN_classifier on test data is: ')\n",
    "print(metrics.classification_report(Y_test, predicted_NN, labels=[1, 0]))\n",
    "print(' 1 -> Diabetic\\n 0 -> Not Diabetic')"
   ]
  },
  {
   "cell_type": "code",
   "execution_count": null,
   "metadata": {
    "collapsed": true
   },
   "outputs": [],
   "source": []
  }
 ],
 "metadata": {
  "kernelspec": {
   "display_name": "Python 3",
   "language": "python",
   "name": "python3"
  },
  "language_info": {
   "codemirror_mode": {
    "name": "ipython",
    "version": 3
   },
   "file_extension": ".py",
   "mimetype": "text/x-python",
   "name": "python",
   "nbconvert_exporter": "python",
   "pygments_lexer": "ipython3",
   "version": "3.6.5"
  },
  "toc": {
   "nav_menu": {},
   "number_sections": true,
   "sideBar": true,
   "skip_h1_title": false,
   "title_cell": "Table of Contents",
   "title_sidebar": "Contents",
   "toc_cell": false,
   "toc_position": {},
   "toc_section_display": true,
   "toc_window_display": false
  }
 },
 "nbformat": 4,
 "nbformat_minor": 2
}
